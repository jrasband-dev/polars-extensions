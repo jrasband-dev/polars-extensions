{
 "cells": [
  {
   "cell_type": "markdown",
   "metadata": {},
   "source": [
    "# Polars Extensions Usage"
   ]
  },
  {
   "cell_type": "markdown",
   "metadata": {},
   "source": [
    "## Read & Write Schemas"
   ]
  },
  {
   "cell_type": "code",
   "execution_count": null,
   "metadata": {},
   "outputs": [],
   "source": [
    "import polars as pl\n",
    "import polars_extensions as plx"
   ]
  },
  {
   "cell_type": "code",
   "execution_count": null,
   "metadata": {},
   "outputs": [],
   "source": [
    "data = pl.read_csv('datasets/employees.csv')\n",
    "data"
   ]
  },
  {
   "cell_type": "code",
   "execution_count": null,
   "metadata": {},
   "outputs": [],
   "source": [
    "plx.write_schema(data,'schema.json')"
   ]
  },
  {
   "cell_type": "code",
   "execution_count": null,
   "metadata": {},
   "outputs": [],
   "source": [
    "schema = plx.read_schema('schema.json')\n",
    "schema"
   ]
  },
  {
   "cell_type": "markdown",
   "metadata": {},
   "source": [
    "## Case Conventions"
   ]
  },
  {
   "cell_type": "code",
   "execution_count": null,
   "metadata": {},
   "outputs": [],
   "source": [
    "import polars as pl\n",
    "from polars_extensions import * #Import all extensions\n",
    "\n",
    "data = pl.read_csv('datasets/employees.csv')\n",
    "data"
   ]
  },
  {
   "cell_type": "code",
   "execution_count": null,
   "metadata": {},
   "outputs": [],
   "source": [
    "data.name_ext.to_kebeb_case()"
   ]
  },
  {
   "cell_type": "code",
   "execution_count": null,
   "metadata": {},
   "outputs": [],
   "source": [
    "data.name_ext.to_train_case()"
   ]
  },
  {
   "cell_type": "code",
   "execution_count": null,
   "metadata": {},
   "outputs": [],
   "source": [
    "data.name_ext.to_pascal_case()\n"
   ]
  },
  {
   "cell_type": "code",
   "execution_count": null,
   "metadata": {},
   "outputs": [],
   "source": [
    "data.name_ext.to_snake_case()"
   ]
  },
  {
   "cell_type": "code",
   "execution_count": null,
   "metadata": {},
   "outputs": [],
   "source": [
    "data.name_ext.to_camel_case()"
   ]
  },
  {
   "cell_type": "code",
   "execution_count": null,
   "metadata": {},
   "outputs": [],
   "source": [
    "data.name_ext.to_pascal_snake_case()\n"
   ]
  },
  {
   "cell_type": "markdown",
   "metadata": {},
   "source": [
    "## Numeric "
   ]
  },
  {
   "cell_type": "code",
   "execution_count": null,
   "metadata": {},
   "outputs": [],
   "source": [
    "import polars as pl\n",
    "df = pl.DataFrame({\"numbers\": [1, 2, 309, 4, 5]})\n",
    "df"
   ]
  },
  {
   "cell_type": "code",
   "execution_count": null,
   "metadata": {},
   "outputs": [],
   "source": [
    "import polars_extensions as plx\n",
    "\n",
    "result = df.with_columns(\n",
    "    pl.col('numbers').num_ext.to_roman().alias(\"Roman\")\n",
    ")\n",
    "\n",
    "result"
   ]
  },
  {
   "cell_type": "code",
   "execution_count": null,
   "metadata": {},
   "outputs": [],
   "source": [
    "new_result = result.with_columns(\n",
    "    pl.col('Roman').num_ext.from_roman().alias(\"Decoded\")\n",
    ")\n",
    "new_result"
   ]
  },
  {
   "cell_type": "code",
   "execution_count": null,
   "metadata": {},
   "outputs": [],
   "source": [
    "import polars as pl\n",
    "df = pl.DataFrame({\"numbers\": ['6', 'two', 'three hundred and nine', '5', '4']})\n",
    "df"
   ]
  },
  {
   "cell_type": "code",
   "execution_count": null,
   "metadata": {},
   "outputs": [],
   "source": [
    "import polars_extensions as plx\n",
    "df.with_columns(\n",
    "    pl.col('numbers').num_ext.word_to_number().alias(\"Actual Numbers\")\n",
    ")"
   ]
  },
  {
   "cell_type": "markdown",
   "metadata": {},
   "source": [
    "## String"
   ]
  },
  {
   "cell_type": "code",
   "execution_count": null,
   "metadata": {},
   "outputs": [],
   "source": [
    "import polars_extensions as plx\n",
    "import polars as pl \n",
    "\n",
    "data = pl.read_csv('datasets/string_sim.csv')\n",
    "\n",
    "data.str_ext.f1_string_similarity('a','c')"
   ]
  },
  {
   "cell_type": "markdown",
   "metadata": {},
   "source": [
    "## Geospatial"
   ]
  },
  {
   "cell_type": "code",
   "execution_count": null,
   "metadata": {},
   "outputs": [],
   "source": [
    "import polars as pl \n",
    "import polars_extensions as plx\n",
    "\n",
    "data = pl.DataFrame({\n",
    "    \"geometry\": [\n",
    "        \"POINT (-101.044612343761 45.139066210329)\",\n",
    "        \"POINT (-101.044119223429 48.1390850482555)\",\n",
    "        \"POINT (-102.044733837176 43.1389478003816)\",\n",
    "        \"POINT (-114.04470525049 43.1385010700204)\",\n",
    "    ]\n",
    "})\n",
    "data\n"
   ]
  },
  {
   "cell_type": "code",
   "execution_count": null,
   "metadata": {},
   "outputs": [],
   "source": [
    "new = data.with_columns(\n",
    "    pl.col('geometry').geo_ext.wkt_to_coords().alias('coords'))\n",
    "new"
   ]
  },
  {
   "cell_type": "code",
   "execution_count": null,
   "metadata": {},
   "outputs": [],
   "source": [
    "new.with_columns(\n",
    "    pl.col('coords').geo_ext.coords_to_wkt().alias('wkt')\n",
    "    ,pl.col('coords').geo_ext.coords_to_wkb().alias('wkb'))"
   ]
  },
  {
   "cell_type": "code",
   "execution_count": null,
   "metadata": {},
   "outputs": [],
   "source": [
    "import geoframe as gf\n",
    "import polars as pl\n",
    "\n",
    "gdf = gf.read_geoarrow('./datasets/ns-water-basin_poly-wkb.arrow',geometry_format='wkb')\n",
    "gdf"
   ]
  },
  {
   "cell_type": "code",
   "execution_count": null,
   "metadata": {},
   "outputs": [],
   "source": [
    "import polars_extensions as plx\n",
    "\n",
    "gdf.with_columns(\n",
    "    pl.col('geometry').geo_ext.wkb_to_wkt().alias('geometry_wkt')\n",
    "    ,pl.col('geometry').geo_ext.wkb_to_wkt().geo_ext.wkt_to_wkb(format='raw').alias('geometry_wkb_raw')\n",
    "    ,pl.col('geometry').geo_ext.wkb_to_wkt().geo_ext.wkt_to_wkb(format='hex').alias('geometry_wkb_hex')\n",
    ")\n"
   ]
  },
  {
   "cell_type": "code",
   "execution_count": null,
   "metadata": {},
   "outputs": [],
   "source": []
  }
 ],
 "metadata": {
  "kernelspec": {
   "display_name": "polars-extensions",
   "language": "python",
   "name": "python3"
  },
  "language_info": {
   "codemirror_mode": {
    "name": "ipython",
    "version": 3
   },
   "file_extension": ".py",
   "mimetype": "text/x-python",
   "name": "python",
   "nbconvert_exporter": "python",
   "pygments_lexer": "ipython3",
   "version": "3.13.1"
  }
 },
 "nbformat": 4,
 "nbformat_minor": 2
}
