{
 "cells": [
  {
   "cell_type": "markdown",
   "metadata": {},
   "source": [
    "# Polars Extensions Usage"
   ]
  },
  {
   "cell_type": "markdown",
   "metadata": {},
   "source": [
    "## Read & Write Schemas"
   ]
  },
  {
   "cell_type": "code",
   "execution_count": 5,
   "metadata": {},
   "outputs": [],
   "source": [
    "import polars as pl\n",
    "import polars_extensions as plx"
   ]
  },
  {
   "cell_type": "code",
   "execution_count": 6,
   "metadata": {},
   "outputs": [
    {
     "data": {
      "text/html": [
       "<div><style>\n",
       ".dataframe > thead > tr,\n",
       ".dataframe > tbody > tr {\n",
       "  text-align: right;\n",
       "  white-space: pre-wrap;\n",
       "}\n",
       "</style>\n",
       "<small>shape: (5, 8)</small><table border=\"1\" class=\"dataframe\"><thead><tr><th>employee_id</th><th>first_name</th><th>last_name</th><th>email</th><th>job_title</th><th>date_of_birth</th><th>date_of_hire</th><th>salary</th></tr><tr><td>i64</td><td>str</td><td>str</td><td>str</td><td>str</td><td>str</td><td>str</td><td>i64</td></tr></thead><tbody><tr><td>1</td><td>&quot;john&quot;</td><td>&quot;doe&quot;</td><td>&quot;john.doe@example.com&quot;</td><td>&quot;software_engineer&quot;</td><td>&quot;1990-05-12&quot;</td><td>&quot;2015-08-01&quot;</td><td>85000</td></tr><tr><td>2</td><td>&quot;jane&quot;</td><td>&quot;smith&quot;</td><td>&quot;jane.smith@example.com&quot;</td><td>&quot;data_scientist&quot;</td><td>&quot;1988-11-23&quot;</td><td>&quot;2017-03-15&quot;</td><td>95000</td></tr><tr><td>3</td><td>&quot;bob&quot;</td><td>&quot;johnson&quot;</td><td>&quot;bob.johnson@example.com&quot;</td><td>&quot;product_manager&quot;</td><td>&quot;1985-07-19&quot;</td><td>&quot;2012-10-10&quot;</td><td>105000</td></tr><tr><td>4</td><td>&quot;alice&quot;</td><td>&quot;davis&quot;</td><td>&quot;alice.davis@example.com&quot;</td><td>&quot;ux_designer&quot;</td><td>&quot;1992-04-06&quot;</td><td>&quot;2020-01-21&quot;</td><td>78000</td></tr><tr><td>5</td><td>&quot;charlie&quot;</td><td>&quot;brown&quot;</td><td>&quot;charlie.brown@example.com&quot;</td><td>&quot;qa_engineer&quot;</td><td>&quot;1993-09-14&quot;</td><td>&quot;2019-07-08&quot;</td><td>72000</td></tr></tbody></table></div>"
      ],
      "text/plain": [
       "shape: (5, 8)\n",
       "┌────────────┬────────────┬───────────┬────────────┬────────────┬────────────┬────────────┬────────┐\n",
       "│ employee_i ┆ first_name ┆ last_name ┆ email      ┆ job_title  ┆ date_of_bi ┆ date_of_hi ┆ salary │\n",
       "│ d          ┆ ---        ┆ ---       ┆ ---        ┆ ---        ┆ rth        ┆ re         ┆ ---    │\n",
       "│ ---        ┆ str        ┆ str       ┆ str        ┆ str        ┆ ---        ┆ ---        ┆ i64    │\n",
       "│ i64        ┆            ┆           ┆            ┆            ┆ str        ┆ str        ┆        │\n",
       "╞════════════╪════════════╪═══════════╪════════════╪════════════╪════════════╪════════════╪════════╡\n",
       "│ 1          ┆ john       ┆ doe       ┆ john.doe@e ┆ software_e ┆ 1990-05-12 ┆ 2015-08-01 ┆ 85000  │\n",
       "│            ┆            ┆           ┆ xample.com ┆ ngineer    ┆            ┆            ┆        │\n",
       "│ 2          ┆ jane       ┆ smith     ┆ jane.smith ┆ data_scien ┆ 1988-11-23 ┆ 2017-03-15 ┆ 95000  │\n",
       "│            ┆            ┆           ┆ @example.c ┆ tist       ┆            ┆            ┆        │\n",
       "│            ┆            ┆           ┆ om         ┆            ┆            ┆            ┆        │\n",
       "│ 3          ┆ bob        ┆ johnson   ┆ bob.johnso ┆ product_ma ┆ 1985-07-19 ┆ 2012-10-10 ┆ 105000 │\n",
       "│            ┆            ┆           ┆ n@example. ┆ nager      ┆            ┆            ┆        │\n",
       "│            ┆            ┆           ┆ com        ┆            ┆            ┆            ┆        │\n",
       "│ 4          ┆ alice      ┆ davis     ┆ alice.davi ┆ ux_designe ┆ 1992-04-06 ┆ 2020-01-21 ┆ 78000  │\n",
       "│            ┆            ┆           ┆ s@example. ┆ r          ┆            ┆            ┆        │\n",
       "│            ┆            ┆           ┆ com        ┆            ┆            ┆            ┆        │\n",
       "│ 5          ┆ charlie    ┆ brown     ┆ charlie.br ┆ qa_enginee ┆ 1993-09-14 ┆ 2019-07-08 ┆ 72000  │\n",
       "│            ┆            ┆           ┆ own@exampl ┆ r          ┆            ┆            ┆        │\n",
       "│            ┆            ┆           ┆ e.com      ┆            ┆            ┆            ┆        │\n",
       "└────────────┴────────────┴───────────┴────────────┴────────────┴────────────┴────────────┴────────┘"
      ]
     },
     "execution_count": 6,
     "metadata": {},
     "output_type": "execute_result"
    }
   ],
   "source": [
    "data = pl.read_csv('datasets/employees.csv')\n",
    "data"
   ]
  },
  {
   "cell_type": "code",
   "execution_count": 7,
   "metadata": {},
   "outputs": [],
   "source": [
    "plx.write_schema(data,'schema.json')"
   ]
  },
  {
   "cell_type": "code",
   "execution_count": 8,
   "metadata": {},
   "outputs": [
    {
     "data": {
      "text/plain": [
       "Schema([('employee_id', Int64),\n",
       "        ('first_name', String),\n",
       "        ('last_name', String),\n",
       "        ('email', String),\n",
       "        ('job_title', String),\n",
       "        ('date_of_birth', String),\n",
       "        ('date_of_hire', String),\n",
       "        ('salary', Int64)])"
      ]
     },
     "execution_count": 8,
     "metadata": {},
     "output_type": "execute_result"
    }
   ],
   "source": [
    "schema = plx.read_schema('schema.json')\n",
    "schema"
   ]
  },
  {
   "cell_type": "markdown",
   "metadata": {},
   "source": [
    "## Case Conventions"
   ]
  },
  {
   "cell_type": "code",
   "execution_count": 9,
   "metadata": {},
   "outputs": [
    {
     "data": {
      "text/html": [
       "<div><style>\n",
       ".dataframe > thead > tr,\n",
       ".dataframe > tbody > tr {\n",
       "  text-align: right;\n",
       "  white-space: pre-wrap;\n",
       "}\n",
       "</style>\n",
       "<small>shape: (5, 8)</small><table border=\"1\" class=\"dataframe\"><thead><tr><th>employee_id</th><th>first_name</th><th>last_name</th><th>email</th><th>job_title</th><th>date_of_birth</th><th>date_of_hire</th><th>salary</th></tr><tr><td>i64</td><td>str</td><td>str</td><td>str</td><td>str</td><td>str</td><td>str</td><td>i64</td></tr></thead><tbody><tr><td>1</td><td>&quot;john&quot;</td><td>&quot;doe&quot;</td><td>&quot;john.doe@example.com&quot;</td><td>&quot;software_engineer&quot;</td><td>&quot;1990-05-12&quot;</td><td>&quot;2015-08-01&quot;</td><td>85000</td></tr><tr><td>2</td><td>&quot;jane&quot;</td><td>&quot;smith&quot;</td><td>&quot;jane.smith@example.com&quot;</td><td>&quot;data_scientist&quot;</td><td>&quot;1988-11-23&quot;</td><td>&quot;2017-03-15&quot;</td><td>95000</td></tr><tr><td>3</td><td>&quot;bob&quot;</td><td>&quot;johnson&quot;</td><td>&quot;bob.johnson@example.com&quot;</td><td>&quot;product_manager&quot;</td><td>&quot;1985-07-19&quot;</td><td>&quot;2012-10-10&quot;</td><td>105000</td></tr><tr><td>4</td><td>&quot;alice&quot;</td><td>&quot;davis&quot;</td><td>&quot;alice.davis@example.com&quot;</td><td>&quot;ux_designer&quot;</td><td>&quot;1992-04-06&quot;</td><td>&quot;2020-01-21&quot;</td><td>78000</td></tr><tr><td>5</td><td>&quot;charlie&quot;</td><td>&quot;brown&quot;</td><td>&quot;charlie.brown@example.com&quot;</td><td>&quot;qa_engineer&quot;</td><td>&quot;1993-09-14&quot;</td><td>&quot;2019-07-08&quot;</td><td>72000</td></tr></tbody></table></div>"
      ],
      "text/plain": [
       "shape: (5, 8)\n",
       "┌────────────┬────────────┬───────────┬────────────┬────────────┬────────────┬────────────┬────────┐\n",
       "│ employee_i ┆ first_name ┆ last_name ┆ email      ┆ job_title  ┆ date_of_bi ┆ date_of_hi ┆ salary │\n",
       "│ d          ┆ ---        ┆ ---       ┆ ---        ┆ ---        ┆ rth        ┆ re         ┆ ---    │\n",
       "│ ---        ┆ str        ┆ str       ┆ str        ┆ str        ┆ ---        ┆ ---        ┆ i64    │\n",
       "│ i64        ┆            ┆           ┆            ┆            ┆ str        ┆ str        ┆        │\n",
       "╞════════════╪════════════╪═══════════╪════════════╪════════════╪════════════╪════════════╪════════╡\n",
       "│ 1          ┆ john       ┆ doe       ┆ john.doe@e ┆ software_e ┆ 1990-05-12 ┆ 2015-08-01 ┆ 85000  │\n",
       "│            ┆            ┆           ┆ xample.com ┆ ngineer    ┆            ┆            ┆        │\n",
       "│ 2          ┆ jane       ┆ smith     ┆ jane.smith ┆ data_scien ┆ 1988-11-23 ┆ 2017-03-15 ┆ 95000  │\n",
       "│            ┆            ┆           ┆ @example.c ┆ tist       ┆            ┆            ┆        │\n",
       "│            ┆            ┆           ┆ om         ┆            ┆            ┆            ┆        │\n",
       "│ 3          ┆ bob        ┆ johnson   ┆ bob.johnso ┆ product_ma ┆ 1985-07-19 ┆ 2012-10-10 ┆ 105000 │\n",
       "│            ┆            ┆           ┆ n@example. ┆ nager      ┆            ┆            ┆        │\n",
       "│            ┆            ┆           ┆ com        ┆            ┆            ┆            ┆        │\n",
       "│ 4          ┆ alice      ┆ davis     ┆ alice.davi ┆ ux_designe ┆ 1992-04-06 ┆ 2020-01-21 ┆ 78000  │\n",
       "│            ┆            ┆           ┆ s@example. ┆ r          ┆            ┆            ┆        │\n",
       "│            ┆            ┆           ┆ com        ┆            ┆            ┆            ┆        │\n",
       "│ 5          ┆ charlie    ┆ brown     ┆ charlie.br ┆ qa_enginee ┆ 1993-09-14 ┆ 2019-07-08 ┆ 72000  │\n",
       "│            ┆            ┆           ┆ own@exampl ┆ r          ┆            ┆            ┆        │\n",
       "│            ┆            ┆           ┆ e.com      ┆            ┆            ┆            ┆        │\n",
       "└────────────┴────────────┴───────────┴────────────┴────────────┴────────────┴────────────┴────────┘"
      ]
     },
     "execution_count": 9,
     "metadata": {},
     "output_type": "execute_result"
    }
   ],
   "source": [
    "import polars as pl\n",
    "from polars_extensions import * #Import all extensions\n",
    "\n",
    "data = pl.read_csv('datasets/employees.csv')\n",
    "data"
   ]
  },
  {
   "cell_type": "code",
   "execution_count": 10,
   "metadata": {},
   "outputs": [
    {
     "data": {
      "text/html": [
       "<div><style>\n",
       ".dataframe > thead > tr,\n",
       ".dataframe > tbody > tr {\n",
       "  text-align: right;\n",
       "  white-space: pre-wrap;\n",
       "}\n",
       "</style>\n",
       "<small>shape: (5, 8)</small><table border=\"1\" class=\"dataframe\"><thead><tr><th>employee-id</th><th>first-name</th><th>last-name</th><th>email</th><th>job-title</th><th>date-of-birth</th><th>date-of-hire</th><th>salary</th></tr><tr><td>i64</td><td>str</td><td>str</td><td>str</td><td>str</td><td>str</td><td>str</td><td>i64</td></tr></thead><tbody><tr><td>1</td><td>&quot;john&quot;</td><td>&quot;doe&quot;</td><td>&quot;john.doe@example.com&quot;</td><td>&quot;software_engineer&quot;</td><td>&quot;1990-05-12&quot;</td><td>&quot;2015-08-01&quot;</td><td>85000</td></tr><tr><td>2</td><td>&quot;jane&quot;</td><td>&quot;smith&quot;</td><td>&quot;jane.smith@example.com&quot;</td><td>&quot;data_scientist&quot;</td><td>&quot;1988-11-23&quot;</td><td>&quot;2017-03-15&quot;</td><td>95000</td></tr><tr><td>3</td><td>&quot;bob&quot;</td><td>&quot;johnson&quot;</td><td>&quot;bob.johnson@example.com&quot;</td><td>&quot;product_manager&quot;</td><td>&quot;1985-07-19&quot;</td><td>&quot;2012-10-10&quot;</td><td>105000</td></tr><tr><td>4</td><td>&quot;alice&quot;</td><td>&quot;davis&quot;</td><td>&quot;alice.davis@example.com&quot;</td><td>&quot;ux_designer&quot;</td><td>&quot;1992-04-06&quot;</td><td>&quot;2020-01-21&quot;</td><td>78000</td></tr><tr><td>5</td><td>&quot;charlie&quot;</td><td>&quot;brown&quot;</td><td>&quot;charlie.brown@example.com&quot;</td><td>&quot;qa_engineer&quot;</td><td>&quot;1993-09-14&quot;</td><td>&quot;2019-07-08&quot;</td><td>72000</td></tr></tbody></table></div>"
      ],
      "text/plain": [
       "shape: (5, 8)\n",
       "┌────────────┬────────────┬───────────┬────────────┬────────────┬────────────┬────────────┬────────┐\n",
       "│ employee-i ┆ first-name ┆ last-name ┆ email      ┆ job-title  ┆ date-of-bi ┆ date-of-hi ┆ salary │\n",
       "│ d          ┆ ---        ┆ ---       ┆ ---        ┆ ---        ┆ rth        ┆ re         ┆ ---    │\n",
       "│ ---        ┆ str        ┆ str       ┆ str        ┆ str        ┆ ---        ┆ ---        ┆ i64    │\n",
       "│ i64        ┆            ┆           ┆            ┆            ┆ str        ┆ str        ┆        │\n",
       "╞════════════╪════════════╪═══════════╪════════════╪════════════╪════════════╪════════════╪════════╡\n",
       "│ 1          ┆ john       ┆ doe       ┆ john.doe@e ┆ software_e ┆ 1990-05-12 ┆ 2015-08-01 ┆ 85000  │\n",
       "│            ┆            ┆           ┆ xample.com ┆ ngineer    ┆            ┆            ┆        │\n",
       "│ 2          ┆ jane       ┆ smith     ┆ jane.smith ┆ data_scien ┆ 1988-11-23 ┆ 2017-03-15 ┆ 95000  │\n",
       "│            ┆            ┆           ┆ @example.c ┆ tist       ┆            ┆            ┆        │\n",
       "│            ┆            ┆           ┆ om         ┆            ┆            ┆            ┆        │\n",
       "│ 3          ┆ bob        ┆ johnson   ┆ bob.johnso ┆ product_ma ┆ 1985-07-19 ┆ 2012-10-10 ┆ 105000 │\n",
       "│            ┆            ┆           ┆ n@example. ┆ nager      ┆            ┆            ┆        │\n",
       "│            ┆            ┆           ┆ com        ┆            ┆            ┆            ┆        │\n",
       "│ 4          ┆ alice      ┆ davis     ┆ alice.davi ┆ ux_designe ┆ 1992-04-06 ┆ 2020-01-21 ┆ 78000  │\n",
       "│            ┆            ┆           ┆ s@example. ┆ r          ┆            ┆            ┆        │\n",
       "│            ┆            ┆           ┆ com        ┆            ┆            ┆            ┆        │\n",
       "│ 5          ┆ charlie    ┆ brown     ┆ charlie.br ┆ qa_enginee ┆ 1993-09-14 ┆ 2019-07-08 ┆ 72000  │\n",
       "│            ┆            ┆           ┆ own@exampl ┆ r          ┆            ┆            ┆        │\n",
       "│            ┆            ┆           ┆ e.com      ┆            ┆            ┆            ┆        │\n",
       "└────────────┴────────────┴───────────┴────────────┴────────────┴────────────┴────────────┴────────┘"
      ]
     },
     "execution_count": 10,
     "metadata": {},
     "output_type": "execute_result"
    }
   ],
   "source": [
    "data.name_ext.to_kebeb_case()"
   ]
  },
  {
   "cell_type": "code",
   "execution_count": 11,
   "metadata": {},
   "outputs": [
    {
     "data": {
      "text/html": [
       "<div><style>\n",
       ".dataframe > thead > tr,\n",
       ".dataframe > tbody > tr {\n",
       "  text-align: right;\n",
       "  white-space: pre-wrap;\n",
       "}\n",
       "</style>\n",
       "<small>shape: (5, 8)</small><table border=\"1\" class=\"dataframe\"><thead><tr><th>Employee-Id</th><th>First-Name</th><th>Last-Name</th><th>Email</th><th>Job-Title</th><th>Date-Of-Birth</th><th>Date-Of-Hire</th><th>Salary</th></tr><tr><td>i64</td><td>str</td><td>str</td><td>str</td><td>str</td><td>str</td><td>str</td><td>i64</td></tr></thead><tbody><tr><td>1</td><td>&quot;john&quot;</td><td>&quot;doe&quot;</td><td>&quot;john.doe@example.com&quot;</td><td>&quot;software_engineer&quot;</td><td>&quot;1990-05-12&quot;</td><td>&quot;2015-08-01&quot;</td><td>85000</td></tr><tr><td>2</td><td>&quot;jane&quot;</td><td>&quot;smith&quot;</td><td>&quot;jane.smith@example.com&quot;</td><td>&quot;data_scientist&quot;</td><td>&quot;1988-11-23&quot;</td><td>&quot;2017-03-15&quot;</td><td>95000</td></tr><tr><td>3</td><td>&quot;bob&quot;</td><td>&quot;johnson&quot;</td><td>&quot;bob.johnson@example.com&quot;</td><td>&quot;product_manager&quot;</td><td>&quot;1985-07-19&quot;</td><td>&quot;2012-10-10&quot;</td><td>105000</td></tr><tr><td>4</td><td>&quot;alice&quot;</td><td>&quot;davis&quot;</td><td>&quot;alice.davis@example.com&quot;</td><td>&quot;ux_designer&quot;</td><td>&quot;1992-04-06&quot;</td><td>&quot;2020-01-21&quot;</td><td>78000</td></tr><tr><td>5</td><td>&quot;charlie&quot;</td><td>&quot;brown&quot;</td><td>&quot;charlie.brown@example.com&quot;</td><td>&quot;qa_engineer&quot;</td><td>&quot;1993-09-14&quot;</td><td>&quot;2019-07-08&quot;</td><td>72000</td></tr></tbody></table></div>"
      ],
      "text/plain": [
       "shape: (5, 8)\n",
       "┌────────────┬────────────┬───────────┬────────────┬────────────┬────────────┬────────────┬────────┐\n",
       "│ Employee-I ┆ First-Name ┆ Last-Name ┆ Email      ┆ Job-Title  ┆ Date-Of-Bi ┆ Date-Of-Hi ┆ Salary │\n",
       "│ d          ┆ ---        ┆ ---       ┆ ---        ┆ ---        ┆ rth        ┆ re         ┆ ---    │\n",
       "│ ---        ┆ str        ┆ str       ┆ str        ┆ str        ┆ ---        ┆ ---        ┆ i64    │\n",
       "│ i64        ┆            ┆           ┆            ┆            ┆ str        ┆ str        ┆        │\n",
       "╞════════════╪════════════╪═══════════╪════════════╪════════════╪════════════╪════════════╪════════╡\n",
       "│ 1          ┆ john       ┆ doe       ┆ john.doe@e ┆ software_e ┆ 1990-05-12 ┆ 2015-08-01 ┆ 85000  │\n",
       "│            ┆            ┆           ┆ xample.com ┆ ngineer    ┆            ┆            ┆        │\n",
       "│ 2          ┆ jane       ┆ smith     ┆ jane.smith ┆ data_scien ┆ 1988-11-23 ┆ 2017-03-15 ┆ 95000  │\n",
       "│            ┆            ┆           ┆ @example.c ┆ tist       ┆            ┆            ┆        │\n",
       "│            ┆            ┆           ┆ om         ┆            ┆            ┆            ┆        │\n",
       "│ 3          ┆ bob        ┆ johnson   ┆ bob.johnso ┆ product_ma ┆ 1985-07-19 ┆ 2012-10-10 ┆ 105000 │\n",
       "│            ┆            ┆           ┆ n@example. ┆ nager      ┆            ┆            ┆        │\n",
       "│            ┆            ┆           ┆ com        ┆            ┆            ┆            ┆        │\n",
       "│ 4          ┆ alice      ┆ davis     ┆ alice.davi ┆ ux_designe ┆ 1992-04-06 ┆ 2020-01-21 ┆ 78000  │\n",
       "│            ┆            ┆           ┆ s@example. ┆ r          ┆            ┆            ┆        │\n",
       "│            ┆            ┆           ┆ com        ┆            ┆            ┆            ┆        │\n",
       "│ 5          ┆ charlie    ┆ brown     ┆ charlie.br ┆ qa_enginee ┆ 1993-09-14 ┆ 2019-07-08 ┆ 72000  │\n",
       "│            ┆            ┆           ┆ own@exampl ┆ r          ┆            ┆            ┆        │\n",
       "│            ┆            ┆           ┆ e.com      ┆            ┆            ┆            ┆        │\n",
       "└────────────┴────────────┴───────────┴────────────┴────────────┴────────────┴────────────┴────────┘"
      ]
     },
     "execution_count": 11,
     "metadata": {},
     "output_type": "execute_result"
    }
   ],
   "source": [
    "data.name_ext.to_train_case()"
   ]
  },
  {
   "cell_type": "code",
   "execution_count": 12,
   "metadata": {},
   "outputs": [
    {
     "data": {
      "text/html": [
       "<div><style>\n",
       ".dataframe > thead > tr,\n",
       ".dataframe > tbody > tr {\n",
       "  text-align: right;\n",
       "  white-space: pre-wrap;\n",
       "}\n",
       "</style>\n",
       "<small>shape: (5, 8)</small><table border=\"1\" class=\"dataframe\"><thead><tr><th>EmployeeId</th><th>FirstName</th><th>LastName</th><th>Email</th><th>JobTitle</th><th>DateOfBirth</th><th>DateOfHire</th><th>Salary</th></tr><tr><td>i64</td><td>str</td><td>str</td><td>str</td><td>str</td><td>str</td><td>str</td><td>i64</td></tr></thead><tbody><tr><td>1</td><td>&quot;john&quot;</td><td>&quot;doe&quot;</td><td>&quot;john.doe@example.com&quot;</td><td>&quot;software_engineer&quot;</td><td>&quot;1990-05-12&quot;</td><td>&quot;2015-08-01&quot;</td><td>85000</td></tr><tr><td>2</td><td>&quot;jane&quot;</td><td>&quot;smith&quot;</td><td>&quot;jane.smith@example.com&quot;</td><td>&quot;data_scientist&quot;</td><td>&quot;1988-11-23&quot;</td><td>&quot;2017-03-15&quot;</td><td>95000</td></tr><tr><td>3</td><td>&quot;bob&quot;</td><td>&quot;johnson&quot;</td><td>&quot;bob.johnson@example.com&quot;</td><td>&quot;product_manager&quot;</td><td>&quot;1985-07-19&quot;</td><td>&quot;2012-10-10&quot;</td><td>105000</td></tr><tr><td>4</td><td>&quot;alice&quot;</td><td>&quot;davis&quot;</td><td>&quot;alice.davis@example.com&quot;</td><td>&quot;ux_designer&quot;</td><td>&quot;1992-04-06&quot;</td><td>&quot;2020-01-21&quot;</td><td>78000</td></tr><tr><td>5</td><td>&quot;charlie&quot;</td><td>&quot;brown&quot;</td><td>&quot;charlie.brown@example.com&quot;</td><td>&quot;qa_engineer&quot;</td><td>&quot;1993-09-14&quot;</td><td>&quot;2019-07-08&quot;</td><td>72000</td></tr></tbody></table></div>"
      ],
      "text/plain": [
       "shape: (5, 8)\n",
       "┌────────────┬───────────┬──────────┬─────────────┬─────────────┬────────────┬────────────┬────────┐\n",
       "│ EmployeeId ┆ FirstName ┆ LastName ┆ Email       ┆ JobTitle    ┆ DateOfBirt ┆ DateOfHire ┆ Salary │\n",
       "│ ---        ┆ ---       ┆ ---      ┆ ---         ┆ ---         ┆ h          ┆ ---        ┆ ---    │\n",
       "│ i64        ┆ str       ┆ str      ┆ str         ┆ str         ┆ ---        ┆ str        ┆ i64    │\n",
       "│            ┆           ┆          ┆             ┆             ┆ str        ┆            ┆        │\n",
       "╞════════════╪═══════════╪══════════╪═════════════╪═════════════╪════════════╪════════════╪════════╡\n",
       "│ 1          ┆ john      ┆ doe      ┆ john.doe@ex ┆ software_en ┆ 1990-05-12 ┆ 2015-08-01 ┆ 85000  │\n",
       "│            ┆           ┆          ┆ ample.com   ┆ gineer      ┆            ┆            ┆        │\n",
       "│ 2          ┆ jane      ┆ smith    ┆ jane.smith@ ┆ data_scient ┆ 1988-11-23 ┆ 2017-03-15 ┆ 95000  │\n",
       "│            ┆           ┆          ┆ example.com ┆ ist         ┆            ┆            ┆        │\n",
       "│ 3          ┆ bob       ┆ johnson  ┆ bob.johnson ┆ product_man ┆ 1985-07-19 ┆ 2012-10-10 ┆ 105000 │\n",
       "│            ┆           ┆          ┆ @example.co ┆ ager        ┆            ┆            ┆        │\n",
       "│            ┆           ┆          ┆ m           ┆             ┆            ┆            ┆        │\n",
       "│ 4          ┆ alice     ┆ davis    ┆ alice.davis ┆ ux_designer ┆ 1992-04-06 ┆ 2020-01-21 ┆ 78000  │\n",
       "│            ┆           ┆          ┆ @example.co ┆             ┆            ┆            ┆        │\n",
       "│            ┆           ┆          ┆ m           ┆             ┆            ┆            ┆        │\n",
       "│ 5          ┆ charlie   ┆ brown    ┆ charlie.bro ┆ qa_engineer ┆ 1993-09-14 ┆ 2019-07-08 ┆ 72000  │\n",
       "│            ┆           ┆          ┆ wn@example. ┆             ┆            ┆            ┆        │\n",
       "│            ┆           ┆          ┆ com         ┆             ┆            ┆            ┆        │\n",
       "└────────────┴───────────┴──────────┴─────────────┴─────────────┴────────────┴────────────┴────────┘"
      ]
     },
     "execution_count": 12,
     "metadata": {},
     "output_type": "execute_result"
    }
   ],
   "source": [
    "data.name_ext.to_pascal_case()\n"
   ]
  },
  {
   "cell_type": "code",
   "execution_count": 13,
   "metadata": {},
   "outputs": [
    {
     "data": {
      "text/html": [
       "<div><style>\n",
       ".dataframe > thead > tr,\n",
       ".dataframe > tbody > tr {\n",
       "  text-align: right;\n",
       "  white-space: pre-wrap;\n",
       "}\n",
       "</style>\n",
       "<small>shape: (5, 8)</small><table border=\"1\" class=\"dataframe\"><thead><tr><th>employee_id</th><th>first_name</th><th>last_name</th><th>email</th><th>job_title</th><th>date_of_birth</th><th>date_of_hire</th><th>salary</th></tr><tr><td>i64</td><td>str</td><td>str</td><td>str</td><td>str</td><td>str</td><td>str</td><td>i64</td></tr></thead><tbody><tr><td>1</td><td>&quot;john&quot;</td><td>&quot;doe&quot;</td><td>&quot;john.doe@example.com&quot;</td><td>&quot;software_engineer&quot;</td><td>&quot;1990-05-12&quot;</td><td>&quot;2015-08-01&quot;</td><td>85000</td></tr><tr><td>2</td><td>&quot;jane&quot;</td><td>&quot;smith&quot;</td><td>&quot;jane.smith@example.com&quot;</td><td>&quot;data_scientist&quot;</td><td>&quot;1988-11-23&quot;</td><td>&quot;2017-03-15&quot;</td><td>95000</td></tr><tr><td>3</td><td>&quot;bob&quot;</td><td>&quot;johnson&quot;</td><td>&quot;bob.johnson@example.com&quot;</td><td>&quot;product_manager&quot;</td><td>&quot;1985-07-19&quot;</td><td>&quot;2012-10-10&quot;</td><td>105000</td></tr><tr><td>4</td><td>&quot;alice&quot;</td><td>&quot;davis&quot;</td><td>&quot;alice.davis@example.com&quot;</td><td>&quot;ux_designer&quot;</td><td>&quot;1992-04-06&quot;</td><td>&quot;2020-01-21&quot;</td><td>78000</td></tr><tr><td>5</td><td>&quot;charlie&quot;</td><td>&quot;brown&quot;</td><td>&quot;charlie.brown@example.com&quot;</td><td>&quot;qa_engineer&quot;</td><td>&quot;1993-09-14&quot;</td><td>&quot;2019-07-08&quot;</td><td>72000</td></tr></tbody></table></div>"
      ],
      "text/plain": [
       "shape: (5, 8)\n",
       "┌────────────┬────────────┬───────────┬────────────┬────────────┬────────────┬────────────┬────────┐\n",
       "│ employee_i ┆ first_name ┆ last_name ┆ email      ┆ job_title  ┆ date_of_bi ┆ date_of_hi ┆ salary │\n",
       "│ d          ┆ ---        ┆ ---       ┆ ---        ┆ ---        ┆ rth        ┆ re         ┆ ---    │\n",
       "│ ---        ┆ str        ┆ str       ┆ str        ┆ str        ┆ ---        ┆ ---        ┆ i64    │\n",
       "│ i64        ┆            ┆           ┆            ┆            ┆ str        ┆ str        ┆        │\n",
       "╞════════════╪════════════╪═══════════╪════════════╪════════════╪════════════╪════════════╪════════╡\n",
       "│ 1          ┆ john       ┆ doe       ┆ john.doe@e ┆ software_e ┆ 1990-05-12 ┆ 2015-08-01 ┆ 85000  │\n",
       "│            ┆            ┆           ┆ xample.com ┆ ngineer    ┆            ┆            ┆        │\n",
       "│ 2          ┆ jane       ┆ smith     ┆ jane.smith ┆ data_scien ┆ 1988-11-23 ┆ 2017-03-15 ┆ 95000  │\n",
       "│            ┆            ┆           ┆ @example.c ┆ tist       ┆            ┆            ┆        │\n",
       "│            ┆            ┆           ┆ om         ┆            ┆            ┆            ┆        │\n",
       "│ 3          ┆ bob        ┆ johnson   ┆ bob.johnso ┆ product_ma ┆ 1985-07-19 ┆ 2012-10-10 ┆ 105000 │\n",
       "│            ┆            ┆           ┆ n@example. ┆ nager      ┆            ┆            ┆        │\n",
       "│            ┆            ┆           ┆ com        ┆            ┆            ┆            ┆        │\n",
       "│ 4          ┆ alice      ┆ davis     ┆ alice.davi ┆ ux_designe ┆ 1992-04-06 ┆ 2020-01-21 ┆ 78000  │\n",
       "│            ┆            ┆           ┆ s@example. ┆ r          ┆            ┆            ┆        │\n",
       "│            ┆            ┆           ┆ com        ┆            ┆            ┆            ┆        │\n",
       "│ 5          ┆ charlie    ┆ brown     ┆ charlie.br ┆ qa_enginee ┆ 1993-09-14 ┆ 2019-07-08 ┆ 72000  │\n",
       "│            ┆            ┆           ┆ own@exampl ┆ r          ┆            ┆            ┆        │\n",
       "│            ┆            ┆           ┆ e.com      ┆            ┆            ┆            ┆        │\n",
       "└────────────┴────────────┴───────────┴────────────┴────────────┴────────────┴────────────┴────────┘"
      ]
     },
     "execution_count": 13,
     "metadata": {},
     "output_type": "execute_result"
    }
   ],
   "source": [
    "data.name_ext.to_snake_case()"
   ]
  },
  {
   "cell_type": "code",
   "execution_count": 14,
   "metadata": {},
   "outputs": [
    {
     "data": {
      "text/html": [
       "<div><style>\n",
       ".dataframe > thead > tr,\n",
       ".dataframe > tbody > tr {\n",
       "  text-align: right;\n",
       "  white-space: pre-wrap;\n",
       "}\n",
       "</style>\n",
       "<small>shape: (5, 8)</small><table border=\"1\" class=\"dataframe\"><thead><tr><th>employeeId</th><th>firstName</th><th>lastName</th><th>email</th><th>jobTitle</th><th>dateOfBirth</th><th>dateOfHire</th><th>salary</th></tr><tr><td>i64</td><td>str</td><td>str</td><td>str</td><td>str</td><td>str</td><td>str</td><td>i64</td></tr></thead><tbody><tr><td>1</td><td>&quot;john&quot;</td><td>&quot;doe&quot;</td><td>&quot;john.doe@example.com&quot;</td><td>&quot;software_engineer&quot;</td><td>&quot;1990-05-12&quot;</td><td>&quot;2015-08-01&quot;</td><td>85000</td></tr><tr><td>2</td><td>&quot;jane&quot;</td><td>&quot;smith&quot;</td><td>&quot;jane.smith@example.com&quot;</td><td>&quot;data_scientist&quot;</td><td>&quot;1988-11-23&quot;</td><td>&quot;2017-03-15&quot;</td><td>95000</td></tr><tr><td>3</td><td>&quot;bob&quot;</td><td>&quot;johnson&quot;</td><td>&quot;bob.johnson@example.com&quot;</td><td>&quot;product_manager&quot;</td><td>&quot;1985-07-19&quot;</td><td>&quot;2012-10-10&quot;</td><td>105000</td></tr><tr><td>4</td><td>&quot;alice&quot;</td><td>&quot;davis&quot;</td><td>&quot;alice.davis@example.com&quot;</td><td>&quot;ux_designer&quot;</td><td>&quot;1992-04-06&quot;</td><td>&quot;2020-01-21&quot;</td><td>78000</td></tr><tr><td>5</td><td>&quot;charlie&quot;</td><td>&quot;brown&quot;</td><td>&quot;charlie.brown@example.com&quot;</td><td>&quot;qa_engineer&quot;</td><td>&quot;1993-09-14&quot;</td><td>&quot;2019-07-08&quot;</td><td>72000</td></tr></tbody></table></div>"
      ],
      "text/plain": [
       "shape: (5, 8)\n",
       "┌────────────┬───────────┬──────────┬─────────────┬─────────────┬────────────┬────────────┬────────┐\n",
       "│ employeeId ┆ firstName ┆ lastName ┆ email       ┆ jobTitle    ┆ dateOfBirt ┆ dateOfHire ┆ salary │\n",
       "│ ---        ┆ ---       ┆ ---      ┆ ---         ┆ ---         ┆ h          ┆ ---        ┆ ---    │\n",
       "│ i64        ┆ str       ┆ str      ┆ str         ┆ str         ┆ ---        ┆ str        ┆ i64    │\n",
       "│            ┆           ┆          ┆             ┆             ┆ str        ┆            ┆        │\n",
       "╞════════════╪═══════════╪══════════╪═════════════╪═════════════╪════════════╪════════════╪════════╡\n",
       "│ 1          ┆ john      ┆ doe      ┆ john.doe@ex ┆ software_en ┆ 1990-05-12 ┆ 2015-08-01 ┆ 85000  │\n",
       "│            ┆           ┆          ┆ ample.com   ┆ gineer      ┆            ┆            ┆        │\n",
       "│ 2          ┆ jane      ┆ smith    ┆ jane.smith@ ┆ data_scient ┆ 1988-11-23 ┆ 2017-03-15 ┆ 95000  │\n",
       "│            ┆           ┆          ┆ example.com ┆ ist         ┆            ┆            ┆        │\n",
       "│ 3          ┆ bob       ┆ johnson  ┆ bob.johnson ┆ product_man ┆ 1985-07-19 ┆ 2012-10-10 ┆ 105000 │\n",
       "│            ┆           ┆          ┆ @example.co ┆ ager        ┆            ┆            ┆        │\n",
       "│            ┆           ┆          ┆ m           ┆             ┆            ┆            ┆        │\n",
       "│ 4          ┆ alice     ┆ davis    ┆ alice.davis ┆ ux_designer ┆ 1992-04-06 ┆ 2020-01-21 ┆ 78000  │\n",
       "│            ┆           ┆          ┆ @example.co ┆             ┆            ┆            ┆        │\n",
       "│            ┆           ┆          ┆ m           ┆             ┆            ┆            ┆        │\n",
       "│ 5          ┆ charlie   ┆ brown    ┆ charlie.bro ┆ qa_engineer ┆ 1993-09-14 ┆ 2019-07-08 ┆ 72000  │\n",
       "│            ┆           ┆          ┆ wn@example. ┆             ┆            ┆            ┆        │\n",
       "│            ┆           ┆          ┆ com         ┆             ┆            ┆            ┆        │\n",
       "└────────────┴───────────┴──────────┴─────────────┴─────────────┴────────────┴────────────┴────────┘"
      ]
     },
     "execution_count": 14,
     "metadata": {},
     "output_type": "execute_result"
    }
   ],
   "source": [
    "data.name_ext.to_camel_case()"
   ]
  },
  {
   "cell_type": "code",
   "execution_count": 15,
   "metadata": {},
   "outputs": [
    {
     "data": {
      "text/html": [
       "<div><style>\n",
       ".dataframe > thead > tr,\n",
       ".dataframe > tbody > tr {\n",
       "  text-align: right;\n",
       "  white-space: pre-wrap;\n",
       "}\n",
       "</style>\n",
       "<small>shape: (5, 8)</small><table border=\"1\" class=\"dataframe\"><thead><tr><th>Employee_Id</th><th>First_Name</th><th>Last_Name</th><th>Email</th><th>Job_Title</th><th>Date_Of_Birth</th><th>Date_Of_Hire</th><th>Salary</th></tr><tr><td>i64</td><td>str</td><td>str</td><td>str</td><td>str</td><td>str</td><td>str</td><td>i64</td></tr></thead><tbody><tr><td>1</td><td>&quot;john&quot;</td><td>&quot;doe&quot;</td><td>&quot;john.doe@example.com&quot;</td><td>&quot;software_engineer&quot;</td><td>&quot;1990-05-12&quot;</td><td>&quot;2015-08-01&quot;</td><td>85000</td></tr><tr><td>2</td><td>&quot;jane&quot;</td><td>&quot;smith&quot;</td><td>&quot;jane.smith@example.com&quot;</td><td>&quot;data_scientist&quot;</td><td>&quot;1988-11-23&quot;</td><td>&quot;2017-03-15&quot;</td><td>95000</td></tr><tr><td>3</td><td>&quot;bob&quot;</td><td>&quot;johnson&quot;</td><td>&quot;bob.johnson@example.com&quot;</td><td>&quot;product_manager&quot;</td><td>&quot;1985-07-19&quot;</td><td>&quot;2012-10-10&quot;</td><td>105000</td></tr><tr><td>4</td><td>&quot;alice&quot;</td><td>&quot;davis&quot;</td><td>&quot;alice.davis@example.com&quot;</td><td>&quot;ux_designer&quot;</td><td>&quot;1992-04-06&quot;</td><td>&quot;2020-01-21&quot;</td><td>78000</td></tr><tr><td>5</td><td>&quot;charlie&quot;</td><td>&quot;brown&quot;</td><td>&quot;charlie.brown@example.com&quot;</td><td>&quot;qa_engineer&quot;</td><td>&quot;1993-09-14&quot;</td><td>&quot;2019-07-08&quot;</td><td>72000</td></tr></tbody></table></div>"
      ],
      "text/plain": [
       "shape: (5, 8)\n",
       "┌────────────┬────────────┬───────────┬────────────┬────────────┬────────────┬────────────┬────────┐\n",
       "│ Employee_I ┆ First_Name ┆ Last_Name ┆ Email      ┆ Job_Title  ┆ Date_Of_Bi ┆ Date_Of_Hi ┆ Salary │\n",
       "│ d          ┆ ---        ┆ ---       ┆ ---        ┆ ---        ┆ rth        ┆ re         ┆ ---    │\n",
       "│ ---        ┆ str        ┆ str       ┆ str        ┆ str        ┆ ---        ┆ ---        ┆ i64    │\n",
       "│ i64        ┆            ┆           ┆            ┆            ┆ str        ┆ str        ┆        │\n",
       "╞════════════╪════════════╪═══════════╪════════════╪════════════╪════════════╪════════════╪════════╡\n",
       "│ 1          ┆ john       ┆ doe       ┆ john.doe@e ┆ software_e ┆ 1990-05-12 ┆ 2015-08-01 ┆ 85000  │\n",
       "│            ┆            ┆           ┆ xample.com ┆ ngineer    ┆            ┆            ┆        │\n",
       "│ 2          ┆ jane       ┆ smith     ┆ jane.smith ┆ data_scien ┆ 1988-11-23 ┆ 2017-03-15 ┆ 95000  │\n",
       "│            ┆            ┆           ┆ @example.c ┆ tist       ┆            ┆            ┆        │\n",
       "│            ┆            ┆           ┆ om         ┆            ┆            ┆            ┆        │\n",
       "│ 3          ┆ bob        ┆ johnson   ┆ bob.johnso ┆ product_ma ┆ 1985-07-19 ┆ 2012-10-10 ┆ 105000 │\n",
       "│            ┆            ┆           ┆ n@example. ┆ nager      ┆            ┆            ┆        │\n",
       "│            ┆            ┆           ┆ com        ┆            ┆            ┆            ┆        │\n",
       "│ 4          ┆ alice      ┆ davis     ┆ alice.davi ┆ ux_designe ┆ 1992-04-06 ┆ 2020-01-21 ┆ 78000  │\n",
       "│            ┆            ┆           ┆ s@example. ┆ r          ┆            ┆            ┆        │\n",
       "│            ┆            ┆           ┆ com        ┆            ┆            ┆            ┆        │\n",
       "│ 5          ┆ charlie    ┆ brown     ┆ charlie.br ┆ qa_enginee ┆ 1993-09-14 ┆ 2019-07-08 ┆ 72000  │\n",
       "│            ┆            ┆           ┆ own@exampl ┆ r          ┆            ┆            ┆        │\n",
       "│            ┆            ┆           ┆ e.com      ┆            ┆            ┆            ┆        │\n",
       "└────────────┴────────────┴───────────┴────────────┴────────────┴────────────┴────────────┴────────┘"
      ]
     },
     "execution_count": 15,
     "metadata": {},
     "output_type": "execute_result"
    }
   ],
   "source": [
    "data.name_ext.to_pascal_snake_case()\n"
   ]
  },
  {
   "cell_type": "markdown",
   "metadata": {},
   "source": [
    "## Numeric "
   ]
  },
  {
   "cell_type": "code",
   "execution_count": 16,
   "metadata": {},
   "outputs": [
    {
     "data": {
      "text/html": [
       "<div><style>\n",
       ".dataframe > thead > tr,\n",
       ".dataframe > tbody > tr {\n",
       "  text-align: right;\n",
       "  white-space: pre-wrap;\n",
       "}\n",
       "</style>\n",
       "<small>shape: (5, 1)</small><table border=\"1\" class=\"dataframe\"><thead><tr><th>numbers</th></tr><tr><td>i64</td></tr></thead><tbody><tr><td>1</td></tr><tr><td>2</td></tr><tr><td>309</td></tr><tr><td>4</td></tr><tr><td>5</td></tr></tbody></table></div>"
      ],
      "text/plain": [
       "shape: (5, 1)\n",
       "┌─────────┐\n",
       "│ numbers │\n",
       "│ ---     │\n",
       "│ i64     │\n",
       "╞═════════╡\n",
       "│ 1       │\n",
       "│ 2       │\n",
       "│ 309     │\n",
       "│ 4       │\n",
       "│ 5       │\n",
       "└─────────┘"
      ]
     },
     "execution_count": 16,
     "metadata": {},
     "output_type": "execute_result"
    }
   ],
   "source": [
    "import polars as pl\n",
    "df = pl.DataFrame({\"numbers\": [1, 2, 309, 4, 5]})\n",
    "df"
   ]
  },
  {
   "cell_type": "code",
   "execution_count": 17,
   "metadata": {},
   "outputs": [
    {
     "data": {
      "text/html": [
       "<div><style>\n",
       ".dataframe > thead > tr,\n",
       ".dataframe > tbody > tr {\n",
       "  text-align: right;\n",
       "  white-space: pre-wrap;\n",
       "}\n",
       "</style>\n",
       "<small>shape: (5, 2)</small><table border=\"1\" class=\"dataframe\"><thead><tr><th>numbers</th><th>Roman</th></tr><tr><td>i64</td><td>str</td></tr></thead><tbody><tr><td>1</td><td>&quot;I&quot;</td></tr><tr><td>2</td><td>&quot;II&quot;</td></tr><tr><td>309</td><td>&quot;CCCIX&quot;</td></tr><tr><td>4</td><td>&quot;IV&quot;</td></tr><tr><td>5</td><td>&quot;V&quot;</td></tr></tbody></table></div>"
      ],
      "text/plain": [
       "shape: (5, 2)\n",
       "┌─────────┬───────┐\n",
       "│ numbers ┆ Roman │\n",
       "│ ---     ┆ ---   │\n",
       "│ i64     ┆ str   │\n",
       "╞═════════╪═══════╡\n",
       "│ 1       ┆ I     │\n",
       "│ 2       ┆ II    │\n",
       "│ 309     ┆ CCCIX │\n",
       "│ 4       ┆ IV    │\n",
       "│ 5       ┆ V     │\n",
       "└─────────┴───────┘"
      ]
     },
     "execution_count": 17,
     "metadata": {},
     "output_type": "execute_result"
    }
   ],
   "source": [
    "import polars_extensions as plx\n",
    "\n",
    "result = df.with_columns(\n",
    "    pl.col('numbers').num_ext.to_roman().alias(\"Roman\")\n",
    ")\n",
    "\n",
    "result"
   ]
  },
  {
   "cell_type": "code",
   "execution_count": 18,
   "metadata": {},
   "outputs": [
    {
     "data": {
      "text/html": [
       "<div><style>\n",
       ".dataframe > thead > tr,\n",
       ".dataframe > tbody > tr {\n",
       "  text-align: right;\n",
       "  white-space: pre-wrap;\n",
       "}\n",
       "</style>\n",
       "<small>shape: (5, 3)</small><table border=\"1\" class=\"dataframe\"><thead><tr><th>numbers</th><th>Roman</th><th>Decoded</th></tr><tr><td>i64</td><td>str</td><td>i64</td></tr></thead><tbody><tr><td>1</td><td>&quot;I&quot;</td><td>1</td></tr><tr><td>2</td><td>&quot;II&quot;</td><td>2</td></tr><tr><td>309</td><td>&quot;CCCIX&quot;</td><td>309</td></tr><tr><td>4</td><td>&quot;IV&quot;</td><td>4</td></tr><tr><td>5</td><td>&quot;V&quot;</td><td>5</td></tr></tbody></table></div>"
      ],
      "text/plain": [
       "shape: (5, 3)\n",
       "┌─────────┬───────┬─────────┐\n",
       "│ numbers ┆ Roman ┆ Decoded │\n",
       "│ ---     ┆ ---   ┆ ---     │\n",
       "│ i64     ┆ str   ┆ i64     │\n",
       "╞═════════╪═══════╪═════════╡\n",
       "│ 1       ┆ I     ┆ 1       │\n",
       "│ 2       ┆ II    ┆ 2       │\n",
       "│ 309     ┆ CCCIX ┆ 309     │\n",
       "│ 4       ┆ IV    ┆ 4       │\n",
       "│ 5       ┆ V     ┆ 5       │\n",
       "└─────────┴───────┴─────────┘"
      ]
     },
     "execution_count": 18,
     "metadata": {},
     "output_type": "execute_result"
    }
   ],
   "source": [
    "new_result = result.with_columns(\n",
    "    pl.col('Roman').num_ext.from_roman().alias(\"Decoded\")\n",
    ")\n",
    "new_result"
   ]
  },
  {
   "cell_type": "markdown",
   "metadata": {},
   "source": [
    "## String"
   ]
  },
  {
   "cell_type": "code",
   "execution_count": 19,
   "metadata": {},
   "outputs": [
    {
     "data": {
      "text/html": [
       "<div><style>\n",
       ".dataframe > thead > tr,\n",
       ".dataframe > tbody > tr {\n",
       "  text-align: right;\n",
       "  white-space: pre-wrap;\n",
       "}\n",
       "</style>\n",
       "<small>shape: (13, 3)</small><table border=\"1\" class=\"dataframe\"><thead><tr><th>a</th><th>c</th><th>f1_score</th></tr><tr><td>str</td><td>str</td><td>f64</td></tr></thead><tbody><tr><td>&quot;apple&quot;</td><td>&quot;appl&quot;</td><td>0.888889</td></tr><tr><td>&quot;banana&quot;</td><td>&quot;BANANA&quot;</td><td>1.0</td></tr><tr><td>&quot;cherry&quot;</td><td>&quot;cherr&quot;</td><td>0.909091</td></tr><tr><td>&quot;date&quot;</td><td>&quot;etad&quot;</td><td>1.0</td></tr><tr><td>&quot;elderberry&quot;</td><td>&quot;elderberrys&quot;</td><td>0.952381</td></tr><tr><td>&hellip;</td><td>&hellip;</td><td>&hellip;</td></tr><tr><td>&quot;kiwi&quot;</td><td>&quot;KIW&quot;</td><td>0.857143</td></tr><tr><td>&quot;lemon&quot;</td><td>&quot;lemons&quot;</td><td>0.909091</td></tr><tr><td>&quot;mangoes are Tangy&quot;</td><td>&quot;mango are Tangy&quot;</td><td>0.9375</td></tr><tr><td>&quot;it was the best of times&quot;</td><td>&quot;it was the worst of times&quot;</td><td>0.897959</td></tr><tr><td>&quot;of times it was the best&quot;</td><td>&quot;it was the worst of times&quot;</td><td>0.897959</td></tr></tbody></table></div>"
      ],
      "text/plain": [
       "shape: (13, 3)\n",
       "┌──────────────────────────┬───────────────────────────┬──────────┐\n",
       "│ a                        ┆ c                         ┆ f1_score │\n",
       "│ ---                      ┆ ---                       ┆ ---      │\n",
       "│ str                      ┆ str                       ┆ f64      │\n",
       "╞══════════════════════════╪═══════════════════════════╪══════════╡\n",
       "│ apple                    ┆ appl                      ┆ 0.888889 │\n",
       "│ banana                   ┆ BANANA                    ┆ 1.0      │\n",
       "│ cherry                   ┆ cherr                     ┆ 0.909091 │\n",
       "│ date                     ┆ etad                      ┆ 1.0      │\n",
       "│ elderberry               ┆ elderberrys               ┆ 0.952381 │\n",
       "│ …                        ┆ …                         ┆ …        │\n",
       "│ kiwi                     ┆ KIW                       ┆ 0.857143 │\n",
       "│ lemon                    ┆ lemons                    ┆ 0.909091 │\n",
       "│ mangoes are Tangy        ┆ mango are Tangy           ┆ 0.9375   │\n",
       "│ it was the best of times ┆ it was the worst of times ┆ 0.897959 │\n",
       "│ of times it was the best ┆ it was the worst of times ┆ 0.897959 │\n",
       "└──────────────────────────┴───────────────────────────┴──────────┘"
      ]
     },
     "execution_count": 19,
     "metadata": {},
     "output_type": "execute_result"
    }
   ],
   "source": [
    "import polars_extensions as plx\n",
    "import polars as pl \n",
    "\n",
    "data = pl.read_csv('datasets/string_sim.csv')\n",
    "\n",
    "data.str_ext.f1_string_similarity('a','c')"
   ]
  }
 ],
 "metadata": {
  "kernelspec": {
   "display_name": ".venv",
   "language": "python",
   "name": "python3"
  },
  "language_info": {
   "codemirror_mode": {
    "name": "ipython",
    "version": 3
   },
   "file_extension": ".py",
   "mimetype": "text/x-python",
   "name": "python",
   "nbconvert_exporter": "python",
   "pygments_lexer": "ipython3",
   "version": "3.13.1"
  }
 },
 "nbformat": 4,
 "nbformat_minor": 2
}
