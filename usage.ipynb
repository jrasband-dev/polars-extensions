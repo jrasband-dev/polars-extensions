{
 "cells": [
  {
   "cell_type": "code",
   "execution_count": 5,
   "metadata": {},
   "outputs": [],
   "source": [
    "import polars as pl\n",
    "from polars_extensions import *"
   ]
  },
  {
   "cell_type": "code",
   "execution_count": 10,
   "metadata": {},
   "outputs": [
    {
     "data": {
      "text/html": [
       "<div><style>\n",
       ".dataframe > thead > tr,\n",
       ".dataframe > tbody > tr {\n",
       "  text-align: right;\n",
       "  white-space: pre-wrap;\n",
       "}\n",
       "</style>\n",
       "<small>shape: (5, 8)</small><table border=\"1\" class=\"dataframe\"><thead><tr><th>employee_id</th><th>first_name</th><th>last_name</th><th>email</th><th>job_title</th><th>date_of_birth</th><th>date_of_hire</th><th>salary</th></tr><tr><td>i64</td><td>str</td><td>str</td><td>str</td><td>str</td><td>str</td><td>str</td><td>i64</td></tr></thead><tbody><tr><td>1</td><td>&quot;john&quot;</td><td>&quot;doe&quot;</td><td>&quot;john.doe@example.com&quot;</td><td>&quot;software_engineer&quot;</td><td>&quot;1990-05-12&quot;</td><td>&quot;2015-08-01&quot;</td><td>85000</td></tr><tr><td>2</td><td>&quot;jane&quot;</td><td>&quot;smith&quot;</td><td>&quot;jane.smith@example.com&quot;</td><td>&quot;data_scientist&quot;</td><td>&quot;1988-11-23&quot;</td><td>&quot;2017-03-15&quot;</td><td>95000</td></tr><tr><td>3</td><td>&quot;bob&quot;</td><td>&quot;johnson&quot;</td><td>&quot;bob.johnson@example.com&quot;</td><td>&quot;product_manager&quot;</td><td>&quot;1985-07-19&quot;</td><td>&quot;2012-10-10&quot;</td><td>105000</td></tr><tr><td>4</td><td>&quot;alice&quot;</td><td>&quot;davis&quot;</td><td>&quot;alice.davis@example.com&quot;</td><td>&quot;ux_designer&quot;</td><td>&quot;1992-04-06&quot;</td><td>&quot;2020-01-21&quot;</td><td>78000</td></tr><tr><td>5</td><td>&quot;charlie&quot;</td><td>&quot;brown&quot;</td><td>&quot;charlie.brown@example.com&quot;</td><td>&quot;qa_engineer&quot;</td><td>&quot;1993-09-14&quot;</td><td>&quot;2019-07-08&quot;</td><td>72000</td></tr></tbody></table></div>"
      ],
      "text/plain": [
       "shape: (5, 8)\n",
       "┌────────────┬────────────┬───────────┬────────────┬────────────┬────────────┬────────────┬────────┐\n",
       "│ employee_i ┆ first_name ┆ last_name ┆ email      ┆ job_title  ┆ date_of_bi ┆ date_of_hi ┆ salary │\n",
       "│ d          ┆ ---        ┆ ---       ┆ ---        ┆ ---        ┆ rth        ┆ re         ┆ ---    │\n",
       "│ ---        ┆ str        ┆ str       ┆ str        ┆ str        ┆ ---        ┆ ---        ┆ i64    │\n",
       "│ i64        ┆            ┆           ┆            ┆            ┆ str        ┆ str        ┆        │\n",
       "╞════════════╪════════════╪═══════════╪════════════╪════════════╪════════════╪════════════╪════════╡\n",
       "│ 1          ┆ john       ┆ doe       ┆ john.doe@e ┆ software_e ┆ 1990-05-12 ┆ 2015-08-01 ┆ 85000  │\n",
       "│            ┆            ┆           ┆ xample.com ┆ ngineer    ┆            ┆            ┆        │\n",
       "│ 2          ┆ jane       ┆ smith     ┆ jane.smith ┆ data_scien ┆ 1988-11-23 ┆ 2017-03-15 ┆ 95000  │\n",
       "│            ┆            ┆           ┆ @example.c ┆ tist       ┆            ┆            ┆        │\n",
       "│            ┆            ┆           ┆ om         ┆            ┆            ┆            ┆        │\n",
       "│ 3          ┆ bob        ┆ johnson   ┆ bob.johnso ┆ product_ma ┆ 1985-07-19 ┆ 2012-10-10 ┆ 105000 │\n",
       "│            ┆            ┆           ┆ n@example. ┆ nager      ┆            ┆            ┆        │\n",
       "│            ┆            ┆           ┆ com        ┆            ┆            ┆            ┆        │\n",
       "│ 4          ┆ alice      ┆ davis     ┆ alice.davi ┆ ux_designe ┆ 1992-04-06 ┆ 2020-01-21 ┆ 78000  │\n",
       "│            ┆            ┆           ┆ s@example. ┆ r          ┆            ┆            ┆        │\n",
       "│            ┆            ┆           ┆ com        ┆            ┆            ┆            ┆        │\n",
       "│ 5          ┆ charlie    ┆ brown     ┆ charlie.br ┆ qa_enginee ┆ 1993-09-14 ┆ 2019-07-08 ┆ 72000  │\n",
       "│            ┆            ┆           ┆ own@exampl ┆ r          ┆            ┆            ┆        │\n",
       "│            ┆            ┆           ┆ e.com      ┆            ┆            ┆            ┆        │\n",
       "└────────────┴────────────┴───────────┴────────────┴────────────┴────────────┴────────────┴────────┘"
      ]
     },
     "execution_count": 10,
     "metadata": {},
     "output_type": "execute_result"
    }
   ],
   "source": [
    "data = pl.read_csv('datasets/employees.csv')\n",
    "data"
   ]
  },
  {
   "cell_type": "code",
   "execution_count": 7,
   "metadata": {},
   "outputs": [
    {
     "data": {
      "text/html": [
       "<div><style>\n",
       ".dataframe > thead > tr,\n",
       ".dataframe > tbody > tr {\n",
       "  text-align: right;\n",
       "  white-space: pre-wrap;\n",
       "}\n",
       "</style>\n",
       "<small>shape: (5, 8)</small><table border=\"1\" class=\"dataframe\"><thead><tr><th>employee-id</th><th>first-name</th><th>last-name</th><th>email</th><th>job-title</th><th>date-of-birth</th><th>date-of-hire</th><th>salary</th></tr><tr><td>i64</td><td>str</td><td>str</td><td>str</td><td>str</td><td>str</td><td>str</td><td>i64</td></tr></thead><tbody><tr><td>1</td><td>&quot;john&quot;</td><td>&quot;doe&quot;</td><td>&quot;john.doe@example.com&quot;</td><td>&quot;software_engineer&quot;</td><td>&quot;1990-05-12&quot;</td><td>&quot;2015-08-01&quot;</td><td>85000</td></tr><tr><td>2</td><td>&quot;jane&quot;</td><td>&quot;smith&quot;</td><td>&quot;jane.smith@example.com&quot;</td><td>&quot;data_scientist&quot;</td><td>&quot;1988-11-23&quot;</td><td>&quot;2017-03-15&quot;</td><td>95000</td></tr><tr><td>3</td><td>&quot;bob&quot;</td><td>&quot;johnson&quot;</td><td>&quot;bob.johnson@example.com&quot;</td><td>&quot;product_manager&quot;</td><td>&quot;1985-07-19&quot;</td><td>&quot;2012-10-10&quot;</td><td>105000</td></tr><tr><td>4</td><td>&quot;alice&quot;</td><td>&quot;davis&quot;</td><td>&quot;alice.davis@example.com&quot;</td><td>&quot;ux_designer&quot;</td><td>&quot;1992-04-06&quot;</td><td>&quot;2020-01-21&quot;</td><td>78000</td></tr><tr><td>5</td><td>&quot;charlie&quot;</td><td>&quot;brown&quot;</td><td>&quot;charlie.brown@example.com&quot;</td><td>&quot;qa_engineer&quot;</td><td>&quot;1993-09-14&quot;</td><td>&quot;2019-07-08&quot;</td><td>72000</td></tr></tbody></table></div>"
      ],
      "text/plain": [
       "shape: (5, 8)\n",
       "┌────────────┬────────────┬───────────┬────────────┬────────────┬────────────┬────────────┬────────┐\n",
       "│ employee-i ┆ first-name ┆ last-name ┆ email      ┆ job-title  ┆ date-of-bi ┆ date-of-hi ┆ salary │\n",
       "│ d          ┆ ---        ┆ ---       ┆ ---        ┆ ---        ┆ rth        ┆ re         ┆ ---    │\n",
       "│ ---        ┆ str        ┆ str       ┆ str        ┆ str        ┆ ---        ┆ ---        ┆ i64    │\n",
       "│ i64        ┆            ┆           ┆            ┆            ┆ str        ┆ str        ┆        │\n",
       "╞════════════╪════════════╪═══════════╪════════════╪════════════╪════════════╪════════════╪════════╡\n",
       "│ 1          ┆ john       ┆ doe       ┆ john.doe@e ┆ software_e ┆ 1990-05-12 ┆ 2015-08-01 ┆ 85000  │\n",
       "│            ┆            ┆           ┆ xample.com ┆ ngineer    ┆            ┆            ┆        │\n",
       "│ 2          ┆ jane       ┆ smith     ┆ jane.smith ┆ data_scien ┆ 1988-11-23 ┆ 2017-03-15 ┆ 95000  │\n",
       "│            ┆            ┆           ┆ @example.c ┆ tist       ┆            ┆            ┆        │\n",
       "│            ┆            ┆           ┆ om         ┆            ┆            ┆            ┆        │\n",
       "│ 3          ┆ bob        ┆ johnson   ┆ bob.johnso ┆ product_ma ┆ 1985-07-19 ┆ 2012-10-10 ┆ 105000 │\n",
       "│            ┆            ┆           ┆ n@example. ┆ nager      ┆            ┆            ┆        │\n",
       "│            ┆            ┆           ┆ com        ┆            ┆            ┆            ┆        │\n",
       "│ 4          ┆ alice      ┆ davis     ┆ alice.davi ┆ ux_designe ┆ 1992-04-06 ┆ 2020-01-21 ┆ 78000  │\n",
       "│            ┆            ┆           ┆ s@example. ┆ r          ┆            ┆            ┆        │\n",
       "│            ┆            ┆           ┆ com        ┆            ┆            ┆            ┆        │\n",
       "│ 5          ┆ charlie    ┆ brown     ┆ charlie.br ┆ qa_enginee ┆ 1993-09-14 ┆ 2019-07-08 ┆ 72000  │\n",
       "│            ┆            ┆           ┆ own@exampl ┆ r          ┆            ┆            ┆        │\n",
       "│            ┆            ┆           ┆ e.com      ┆            ┆            ┆            ┆        │\n",
       "└────────────┴────────────┴───────────┴────────────┴────────────┴────────────┴────────────┴────────┘"
      ]
     },
     "execution_count": 7,
     "metadata": {},
     "output_type": "execute_result"
    }
   ],
   "source": [
    "data = data.name_ext.to_kebeb_case()\n",
    "data"
   ]
  },
  {
   "cell_type": "code",
   "execution_count": 11,
   "metadata": {},
   "outputs": [
    {
     "data": {
      "text/html": [
       "<div><style>\n",
       ".dataframe > thead > tr,\n",
       ".dataframe > tbody > tr {\n",
       "  text-align: right;\n",
       "  white-space: pre-wrap;\n",
       "}\n",
       "</style>\n",
       "<small>shape: (5, 8)</small><table border=\"1\" class=\"dataframe\"><thead><tr><th>Employee-Id</th><th>First-Name</th><th>Last-Name</th><th>Email</th><th>Job-Title</th><th>Date-Of-Birth</th><th>Date-Of-Hire</th><th>Salary</th></tr><tr><td>i64</td><td>str</td><td>str</td><td>str</td><td>str</td><td>str</td><td>str</td><td>i64</td></tr></thead><tbody><tr><td>1</td><td>&quot;john&quot;</td><td>&quot;doe&quot;</td><td>&quot;john.doe@example.com&quot;</td><td>&quot;software_engineer&quot;</td><td>&quot;1990-05-12&quot;</td><td>&quot;2015-08-01&quot;</td><td>85000</td></tr><tr><td>2</td><td>&quot;jane&quot;</td><td>&quot;smith&quot;</td><td>&quot;jane.smith@example.com&quot;</td><td>&quot;data_scientist&quot;</td><td>&quot;1988-11-23&quot;</td><td>&quot;2017-03-15&quot;</td><td>95000</td></tr><tr><td>3</td><td>&quot;bob&quot;</td><td>&quot;johnson&quot;</td><td>&quot;bob.johnson@example.com&quot;</td><td>&quot;product_manager&quot;</td><td>&quot;1985-07-19&quot;</td><td>&quot;2012-10-10&quot;</td><td>105000</td></tr><tr><td>4</td><td>&quot;alice&quot;</td><td>&quot;davis&quot;</td><td>&quot;alice.davis@example.com&quot;</td><td>&quot;ux_designer&quot;</td><td>&quot;1992-04-06&quot;</td><td>&quot;2020-01-21&quot;</td><td>78000</td></tr><tr><td>5</td><td>&quot;charlie&quot;</td><td>&quot;brown&quot;</td><td>&quot;charlie.brown@example.com&quot;</td><td>&quot;qa_engineer&quot;</td><td>&quot;1993-09-14&quot;</td><td>&quot;2019-07-08&quot;</td><td>72000</td></tr></tbody></table></div>"
      ],
      "text/plain": [
       "shape: (5, 8)\n",
       "┌────────────┬────────────┬───────────┬────────────┬────────────┬────────────┬────────────┬────────┐\n",
       "│ Employee-I ┆ First-Name ┆ Last-Name ┆ Email      ┆ Job-Title  ┆ Date-Of-Bi ┆ Date-Of-Hi ┆ Salary │\n",
       "│ d          ┆ ---        ┆ ---       ┆ ---        ┆ ---        ┆ rth        ┆ re         ┆ ---    │\n",
       "│ ---        ┆ str        ┆ str       ┆ str        ┆ str        ┆ ---        ┆ ---        ┆ i64    │\n",
       "│ i64        ┆            ┆           ┆            ┆            ┆ str        ┆ str        ┆        │\n",
       "╞════════════╪════════════╪═══════════╪════════════╪════════════╪════════════╪════════════╪════════╡\n",
       "│ 1          ┆ john       ┆ doe       ┆ john.doe@e ┆ software_e ┆ 1990-05-12 ┆ 2015-08-01 ┆ 85000  │\n",
       "│            ┆            ┆           ┆ xample.com ┆ ngineer    ┆            ┆            ┆        │\n",
       "│ 2          ┆ jane       ┆ smith     ┆ jane.smith ┆ data_scien ┆ 1988-11-23 ┆ 2017-03-15 ┆ 95000  │\n",
       "│            ┆            ┆           ┆ @example.c ┆ tist       ┆            ┆            ┆        │\n",
       "│            ┆            ┆           ┆ om         ┆            ┆            ┆            ┆        │\n",
       "│ 3          ┆ bob        ┆ johnson   ┆ bob.johnso ┆ product_ma ┆ 1985-07-19 ┆ 2012-10-10 ┆ 105000 │\n",
       "│            ┆            ┆           ┆ n@example. ┆ nager      ┆            ┆            ┆        │\n",
       "│            ┆            ┆           ┆ com        ┆            ┆            ┆            ┆        │\n",
       "│ 4          ┆ alice      ┆ davis     ┆ alice.davi ┆ ux_designe ┆ 1992-04-06 ┆ 2020-01-21 ┆ 78000  │\n",
       "│            ┆            ┆           ┆ s@example. ┆ r          ┆            ┆            ┆        │\n",
       "│            ┆            ┆           ┆ com        ┆            ┆            ┆            ┆        │\n",
       "│ 5          ┆ charlie    ┆ brown     ┆ charlie.br ┆ qa_enginee ┆ 1993-09-14 ┆ 2019-07-08 ┆ 72000  │\n",
       "│            ┆            ┆           ┆ own@exampl ┆ r          ┆            ┆            ┆        │\n",
       "│            ┆            ┆           ┆ e.com      ┆            ┆            ┆            ┆        │\n",
       "└────────────┴────────────┴───────────┴────────────┴────────────┴────────────┴────────────┴────────┘"
      ]
     },
     "execution_count": 11,
     "metadata": {},
     "output_type": "execute_result"
    }
   ],
   "source": [
    "data = data.name_ext.to_train_case()\n",
    "data"
   ]
  },
  {
   "cell_type": "code",
   "execution_count": 11,
   "metadata": {},
   "outputs": [
    {
     "data": {
      "text/html": [
       "<div><style>\n",
       ".dataframe > thead > tr,\n",
       ".dataframe > tbody > tr {\n",
       "  text-align: right;\n",
       "  white-space: pre-wrap;\n",
       "}\n",
       "</style>\n",
       "<small>shape: (5, 8)</small><table border=\"1\" class=\"dataframe\"><thead><tr><th>EmployeeId</th><th>FirstName</th><th>LastName</th><th>Email</th><th>JobTitle</th><th>DateOfBirth</th><th>DateOfHire</th><th>Salary</th></tr><tr><td>i64</td><td>str</td><td>str</td><td>str</td><td>str</td><td>str</td><td>str</td><td>i64</td></tr></thead><tbody><tr><td>1</td><td>&quot;john&quot;</td><td>&quot;doe&quot;</td><td>&quot;john.doe@example.com&quot;</td><td>&quot;software_engineer&quot;</td><td>&quot;1990-05-12&quot;</td><td>&quot;2015-08-01&quot;</td><td>85000</td></tr><tr><td>2</td><td>&quot;jane&quot;</td><td>&quot;smith&quot;</td><td>&quot;jane.smith@example.com&quot;</td><td>&quot;data_scientist&quot;</td><td>&quot;1988-11-23&quot;</td><td>&quot;2017-03-15&quot;</td><td>95000</td></tr><tr><td>3</td><td>&quot;bob&quot;</td><td>&quot;johnson&quot;</td><td>&quot;bob.johnson@example.com&quot;</td><td>&quot;product_manager&quot;</td><td>&quot;1985-07-19&quot;</td><td>&quot;2012-10-10&quot;</td><td>105000</td></tr><tr><td>4</td><td>&quot;alice&quot;</td><td>&quot;davis&quot;</td><td>&quot;alice.davis@example.com&quot;</td><td>&quot;ux_designer&quot;</td><td>&quot;1992-04-06&quot;</td><td>&quot;2020-01-21&quot;</td><td>78000</td></tr><tr><td>5</td><td>&quot;charlie&quot;</td><td>&quot;brown&quot;</td><td>&quot;charlie.brown@example.com&quot;</td><td>&quot;qa_engineer&quot;</td><td>&quot;1993-09-14&quot;</td><td>&quot;2019-07-08&quot;</td><td>72000</td></tr></tbody></table></div>"
      ],
      "text/plain": [
       "shape: (5, 8)\n",
       "┌────────────┬───────────┬──────────┬─────────────┬─────────────┬────────────┬────────────┬────────┐\n",
       "│ EmployeeId ┆ FirstName ┆ LastName ┆ Email       ┆ JobTitle    ┆ DateOfBirt ┆ DateOfHire ┆ Salary │\n",
       "│ ---        ┆ ---       ┆ ---      ┆ ---         ┆ ---         ┆ h          ┆ ---        ┆ ---    │\n",
       "│ i64        ┆ str       ┆ str      ┆ str         ┆ str         ┆ ---        ┆ str        ┆ i64    │\n",
       "│            ┆           ┆          ┆             ┆             ┆ str        ┆            ┆        │\n",
       "╞════════════╪═══════════╪══════════╪═════════════╪═════════════╪════════════╪════════════╪════════╡\n",
       "│ 1          ┆ john      ┆ doe      ┆ john.doe@ex ┆ software_en ┆ 1990-05-12 ┆ 2015-08-01 ┆ 85000  │\n",
       "│            ┆           ┆          ┆ ample.com   ┆ gineer      ┆            ┆            ┆        │\n",
       "│ 2          ┆ jane      ┆ smith    ┆ jane.smith@ ┆ data_scient ┆ 1988-11-23 ┆ 2017-03-15 ┆ 95000  │\n",
       "│            ┆           ┆          ┆ example.com ┆ ist         ┆            ┆            ┆        │\n",
       "│ 3          ┆ bob       ┆ johnson  ┆ bob.johnson ┆ product_man ┆ 1985-07-19 ┆ 2012-10-10 ┆ 105000 │\n",
       "│            ┆           ┆          ┆ @example.co ┆ ager        ┆            ┆            ┆        │\n",
       "│            ┆           ┆          ┆ m           ┆             ┆            ┆            ┆        │\n",
       "│ 4          ┆ alice     ┆ davis    ┆ alice.davis ┆ ux_designer ┆ 1992-04-06 ┆ 2020-01-21 ┆ 78000  │\n",
       "│            ┆           ┆          ┆ @example.co ┆             ┆            ┆            ┆        │\n",
       "│            ┆           ┆          ┆ m           ┆             ┆            ┆            ┆        │\n",
       "│ 5          ┆ charlie   ┆ brown    ┆ charlie.bro ┆ qa_engineer ┆ 1993-09-14 ┆ 2019-07-08 ┆ 72000  │\n",
       "│            ┆           ┆          ┆ wn@example. ┆             ┆            ┆            ┆        │\n",
       "│            ┆           ┆          ┆ com         ┆             ┆            ┆            ┆        │\n",
       "└────────────┴───────────┴──────────┴─────────────┴─────────────┴────────────┴────────────┴────────┘"
      ]
     },
     "execution_count": 11,
     "metadata": {},
     "output_type": "execute_result"
    }
   ],
   "source": [
    "data = data.name_ext.to_pascal_case()\n",
    "data"
   ]
  },
  {
   "cell_type": "code",
   "execution_count": 12,
   "metadata": {},
   "outputs": [
    {
     "data": {
      "text/html": [
       "<div><style>\n",
       ".dataframe > thead > tr,\n",
       ".dataframe > tbody > tr {\n",
       "  text-align: right;\n",
       "  white-space: pre-wrap;\n",
       "}\n",
       "</style>\n",
       "<small>shape: (5, 8)</small><table border=\"1\" class=\"dataframe\"><thead><tr><th>employee_id</th><th>first_name</th><th>last_name</th><th>email</th><th>job_title</th><th>date_of_birth</th><th>date_of_hire</th><th>salary</th></tr><tr><td>i64</td><td>str</td><td>str</td><td>str</td><td>str</td><td>str</td><td>str</td><td>i64</td></tr></thead><tbody><tr><td>1</td><td>&quot;john&quot;</td><td>&quot;doe&quot;</td><td>&quot;john.doe@example.com&quot;</td><td>&quot;software_engineer&quot;</td><td>&quot;1990-05-12&quot;</td><td>&quot;2015-08-01&quot;</td><td>85000</td></tr><tr><td>2</td><td>&quot;jane&quot;</td><td>&quot;smith&quot;</td><td>&quot;jane.smith@example.com&quot;</td><td>&quot;data_scientist&quot;</td><td>&quot;1988-11-23&quot;</td><td>&quot;2017-03-15&quot;</td><td>95000</td></tr><tr><td>3</td><td>&quot;bob&quot;</td><td>&quot;johnson&quot;</td><td>&quot;bob.johnson@example.com&quot;</td><td>&quot;product_manager&quot;</td><td>&quot;1985-07-19&quot;</td><td>&quot;2012-10-10&quot;</td><td>105000</td></tr><tr><td>4</td><td>&quot;alice&quot;</td><td>&quot;davis&quot;</td><td>&quot;alice.davis@example.com&quot;</td><td>&quot;ux_designer&quot;</td><td>&quot;1992-04-06&quot;</td><td>&quot;2020-01-21&quot;</td><td>78000</td></tr><tr><td>5</td><td>&quot;charlie&quot;</td><td>&quot;brown&quot;</td><td>&quot;charlie.brown@example.com&quot;</td><td>&quot;qa_engineer&quot;</td><td>&quot;1993-09-14&quot;</td><td>&quot;2019-07-08&quot;</td><td>72000</td></tr></tbody></table></div>"
      ],
      "text/plain": [
       "shape: (5, 8)\n",
       "┌────────────┬────────────┬───────────┬────────────┬────────────┬────────────┬────────────┬────────┐\n",
       "│ employee_i ┆ first_name ┆ last_name ┆ email      ┆ job_title  ┆ date_of_bi ┆ date_of_hi ┆ salary │\n",
       "│ d          ┆ ---        ┆ ---       ┆ ---        ┆ ---        ┆ rth        ┆ re         ┆ ---    │\n",
       "│ ---        ┆ str        ┆ str       ┆ str        ┆ str        ┆ ---        ┆ ---        ┆ i64    │\n",
       "│ i64        ┆            ┆           ┆            ┆            ┆ str        ┆ str        ┆        │\n",
       "╞════════════╪════════════╪═══════════╪════════════╪════════════╪════════════╪════════════╪════════╡\n",
       "│ 1          ┆ john       ┆ doe       ┆ john.doe@e ┆ software_e ┆ 1990-05-12 ┆ 2015-08-01 ┆ 85000  │\n",
       "│            ┆            ┆           ┆ xample.com ┆ ngineer    ┆            ┆            ┆        │\n",
       "│ 2          ┆ jane       ┆ smith     ┆ jane.smith ┆ data_scien ┆ 1988-11-23 ┆ 2017-03-15 ┆ 95000  │\n",
       "│            ┆            ┆           ┆ @example.c ┆ tist       ┆            ┆            ┆        │\n",
       "│            ┆            ┆           ┆ om         ┆            ┆            ┆            ┆        │\n",
       "│ 3          ┆ bob        ┆ johnson   ┆ bob.johnso ┆ product_ma ┆ 1985-07-19 ┆ 2012-10-10 ┆ 105000 │\n",
       "│            ┆            ┆           ┆ n@example. ┆ nager      ┆            ┆            ┆        │\n",
       "│            ┆            ┆           ┆ com        ┆            ┆            ┆            ┆        │\n",
       "│ 4          ┆ alice      ┆ davis     ┆ alice.davi ┆ ux_designe ┆ 1992-04-06 ┆ 2020-01-21 ┆ 78000  │\n",
       "│            ┆            ┆           ┆ s@example. ┆ r          ┆            ┆            ┆        │\n",
       "│            ┆            ┆           ┆ com        ┆            ┆            ┆            ┆        │\n",
       "│ 5          ┆ charlie    ┆ brown     ┆ charlie.br ┆ qa_enginee ┆ 1993-09-14 ┆ 2019-07-08 ┆ 72000  │\n",
       "│            ┆            ┆           ┆ own@exampl ┆ r          ┆            ┆            ┆        │\n",
       "│            ┆            ┆           ┆ e.com      ┆            ┆            ┆            ┆        │\n",
       "└────────────┴────────────┴───────────┴────────────┴────────────┴────────────┴────────────┴────────┘"
      ]
     },
     "execution_count": 12,
     "metadata": {},
     "output_type": "execute_result"
    }
   ],
   "source": [
    "data = data.name_ext.to_snake_case()\n",
    "data"
   ]
  },
  {
   "cell_type": "code",
   "execution_count": 13,
   "metadata": {},
   "outputs": [
    {
     "data": {
      "text/html": [
       "<div><style>\n",
       ".dataframe > thead > tr,\n",
       ".dataframe > tbody > tr {\n",
       "  text-align: right;\n",
       "  white-space: pre-wrap;\n",
       "}\n",
       "</style>\n",
       "<small>shape: (5, 8)</small><table border=\"1\" class=\"dataframe\"><thead><tr><th>employeeId</th><th>firstName</th><th>lastName</th><th>email</th><th>jobTitle</th><th>dateOfBirth</th><th>dateOfHire</th><th>salary</th></tr><tr><td>i64</td><td>str</td><td>str</td><td>str</td><td>str</td><td>str</td><td>str</td><td>i64</td></tr></thead><tbody><tr><td>1</td><td>&quot;john&quot;</td><td>&quot;doe&quot;</td><td>&quot;john.doe@example.com&quot;</td><td>&quot;software_engineer&quot;</td><td>&quot;1990-05-12&quot;</td><td>&quot;2015-08-01&quot;</td><td>85000</td></tr><tr><td>2</td><td>&quot;jane&quot;</td><td>&quot;smith&quot;</td><td>&quot;jane.smith@example.com&quot;</td><td>&quot;data_scientist&quot;</td><td>&quot;1988-11-23&quot;</td><td>&quot;2017-03-15&quot;</td><td>95000</td></tr><tr><td>3</td><td>&quot;bob&quot;</td><td>&quot;johnson&quot;</td><td>&quot;bob.johnson@example.com&quot;</td><td>&quot;product_manager&quot;</td><td>&quot;1985-07-19&quot;</td><td>&quot;2012-10-10&quot;</td><td>105000</td></tr><tr><td>4</td><td>&quot;alice&quot;</td><td>&quot;davis&quot;</td><td>&quot;alice.davis@example.com&quot;</td><td>&quot;ux_designer&quot;</td><td>&quot;1992-04-06&quot;</td><td>&quot;2020-01-21&quot;</td><td>78000</td></tr><tr><td>5</td><td>&quot;charlie&quot;</td><td>&quot;brown&quot;</td><td>&quot;charlie.brown@example.com&quot;</td><td>&quot;qa_engineer&quot;</td><td>&quot;1993-09-14&quot;</td><td>&quot;2019-07-08&quot;</td><td>72000</td></tr></tbody></table></div>"
      ],
      "text/plain": [
       "shape: (5, 8)\n",
       "┌────────────┬───────────┬──────────┬─────────────┬─────────────┬────────────┬────────────┬────────┐\n",
       "│ employeeId ┆ firstName ┆ lastName ┆ email       ┆ jobTitle    ┆ dateOfBirt ┆ dateOfHire ┆ salary │\n",
       "│ ---        ┆ ---       ┆ ---      ┆ ---         ┆ ---         ┆ h          ┆ ---        ┆ ---    │\n",
       "│ i64        ┆ str       ┆ str      ┆ str         ┆ str         ┆ ---        ┆ str        ┆ i64    │\n",
       "│            ┆           ┆          ┆             ┆             ┆ str        ┆            ┆        │\n",
       "╞════════════╪═══════════╪══════════╪═════════════╪═════════════╪════════════╪════════════╪════════╡\n",
       "│ 1          ┆ john      ┆ doe      ┆ john.doe@ex ┆ software_en ┆ 1990-05-12 ┆ 2015-08-01 ┆ 85000  │\n",
       "│            ┆           ┆          ┆ ample.com   ┆ gineer      ┆            ┆            ┆        │\n",
       "│ 2          ┆ jane      ┆ smith    ┆ jane.smith@ ┆ data_scient ┆ 1988-11-23 ┆ 2017-03-15 ┆ 95000  │\n",
       "│            ┆           ┆          ┆ example.com ┆ ist         ┆            ┆            ┆        │\n",
       "│ 3          ┆ bob       ┆ johnson  ┆ bob.johnson ┆ product_man ┆ 1985-07-19 ┆ 2012-10-10 ┆ 105000 │\n",
       "│            ┆           ┆          ┆ @example.co ┆ ager        ┆            ┆            ┆        │\n",
       "│            ┆           ┆          ┆ m           ┆             ┆            ┆            ┆        │\n",
       "│ 4          ┆ alice     ┆ davis    ┆ alice.davis ┆ ux_designer ┆ 1992-04-06 ┆ 2020-01-21 ┆ 78000  │\n",
       "│            ┆           ┆          ┆ @example.co ┆             ┆            ┆            ┆        │\n",
       "│            ┆           ┆          ┆ m           ┆             ┆            ┆            ┆        │\n",
       "│ 5          ┆ charlie   ┆ brown    ┆ charlie.bro ┆ qa_engineer ┆ 1993-09-14 ┆ 2019-07-08 ┆ 72000  │\n",
       "│            ┆           ┆          ┆ wn@example. ┆             ┆            ┆            ┆        │\n",
       "│            ┆           ┆          ┆ com         ┆             ┆            ┆            ┆        │\n",
       "└────────────┴───────────┴──────────┴─────────────┴─────────────┴────────────┴────────────┴────────┘"
      ]
     },
     "execution_count": 13,
     "metadata": {},
     "output_type": "execute_result"
    }
   ],
   "source": [
    "data = data.name_ext.to_camel_case()\n",
    "data"
   ]
  },
  {
   "cell_type": "code",
   "execution_count": 14,
   "metadata": {},
   "outputs": [
    {
     "data": {
      "text/html": [
       "<div><style>\n",
       ".dataframe > thead > tr,\n",
       ".dataframe > tbody > tr {\n",
       "  text-align: right;\n",
       "  white-space: pre-wrap;\n",
       "}\n",
       "</style>\n",
       "<small>shape: (5, 8)</small><table border=\"1\" class=\"dataframe\"><thead><tr><th>Employeeid</th><th>Firstname</th><th>Lastname</th><th>Email</th><th>Jobtitle</th><th>Dateofbirth</th><th>Dateofhire</th><th>Salary</th></tr><tr><td>i64</td><td>str</td><td>str</td><td>str</td><td>str</td><td>str</td><td>str</td><td>i64</td></tr></thead><tbody><tr><td>1</td><td>&quot;john&quot;</td><td>&quot;doe&quot;</td><td>&quot;john.doe@example.com&quot;</td><td>&quot;software_engineer&quot;</td><td>&quot;1990-05-12&quot;</td><td>&quot;2015-08-01&quot;</td><td>85000</td></tr><tr><td>2</td><td>&quot;jane&quot;</td><td>&quot;smith&quot;</td><td>&quot;jane.smith@example.com&quot;</td><td>&quot;data_scientist&quot;</td><td>&quot;1988-11-23&quot;</td><td>&quot;2017-03-15&quot;</td><td>95000</td></tr><tr><td>3</td><td>&quot;bob&quot;</td><td>&quot;johnson&quot;</td><td>&quot;bob.johnson@example.com&quot;</td><td>&quot;product_manager&quot;</td><td>&quot;1985-07-19&quot;</td><td>&quot;2012-10-10&quot;</td><td>105000</td></tr><tr><td>4</td><td>&quot;alice&quot;</td><td>&quot;davis&quot;</td><td>&quot;alice.davis@example.com&quot;</td><td>&quot;ux_designer&quot;</td><td>&quot;1992-04-06&quot;</td><td>&quot;2020-01-21&quot;</td><td>78000</td></tr><tr><td>5</td><td>&quot;charlie&quot;</td><td>&quot;brown&quot;</td><td>&quot;charlie.brown@example.com&quot;</td><td>&quot;qa_engineer&quot;</td><td>&quot;1993-09-14&quot;</td><td>&quot;2019-07-08&quot;</td><td>72000</td></tr></tbody></table></div>"
      ],
      "text/plain": [
       "shape: (5, 8)\n",
       "┌────────────┬───────────┬──────────┬─────────────┬─────────────┬────────────┬────────────┬────────┐\n",
       "│ Employeeid ┆ Firstname ┆ Lastname ┆ Email       ┆ Jobtitle    ┆ Dateofbirt ┆ Dateofhire ┆ Salary │\n",
       "│ ---        ┆ ---       ┆ ---      ┆ ---         ┆ ---         ┆ h          ┆ ---        ┆ ---    │\n",
       "│ i64        ┆ str       ┆ str      ┆ str         ┆ str         ┆ ---        ┆ str        ┆ i64    │\n",
       "│            ┆           ┆          ┆             ┆             ┆ str        ┆            ┆        │\n",
       "╞════════════╪═══════════╪══════════╪═════════════╪═════════════╪════════════╪════════════╪════════╡\n",
       "│ 1          ┆ john      ┆ doe      ┆ john.doe@ex ┆ software_en ┆ 1990-05-12 ┆ 2015-08-01 ┆ 85000  │\n",
       "│            ┆           ┆          ┆ ample.com   ┆ gineer      ┆            ┆            ┆        │\n",
       "│ 2          ┆ jane      ┆ smith    ┆ jane.smith@ ┆ data_scient ┆ 1988-11-23 ┆ 2017-03-15 ┆ 95000  │\n",
       "│            ┆           ┆          ┆ example.com ┆ ist         ┆            ┆            ┆        │\n",
       "│ 3          ┆ bob       ┆ johnson  ┆ bob.johnson ┆ product_man ┆ 1985-07-19 ┆ 2012-10-10 ┆ 105000 │\n",
       "│            ┆           ┆          ┆ @example.co ┆ ager        ┆            ┆            ┆        │\n",
       "│            ┆           ┆          ┆ m           ┆             ┆            ┆            ┆        │\n",
       "│ 4          ┆ alice     ┆ davis    ┆ alice.davis ┆ ux_designer ┆ 1992-04-06 ┆ 2020-01-21 ┆ 78000  │\n",
       "│            ┆           ┆          ┆ @example.co ┆             ┆            ┆            ┆        │\n",
       "│            ┆           ┆          ┆ m           ┆             ┆            ┆            ┆        │\n",
       "│ 5          ┆ charlie   ┆ brown    ┆ charlie.bro ┆ qa_engineer ┆ 1993-09-14 ┆ 2019-07-08 ┆ 72000  │\n",
       "│            ┆           ┆          ┆ wn@example. ┆             ┆            ┆            ┆        │\n",
       "│            ┆           ┆          ┆ com         ┆             ┆            ┆            ┆        │\n",
       "└────────────┴───────────┴──────────┴─────────────┴─────────────┴────────────┴────────────┴────────┘"
      ]
     },
     "execution_count": 14,
     "metadata": {},
     "output_type": "execute_result"
    }
   ],
   "source": [
    "data = data.name_ext.to_pascal_snake_case()\n",
    "data"
   ]
  },
  {
   "cell_type": "code",
   "execution_count": null,
   "metadata": {},
   "outputs": [],
   "source": []
  }
 ],
 "metadata": {
  "kernelspec": {
   "display_name": "venv",
   "language": "python",
   "name": "python3"
  },
  "language_info": {
   "codemirror_mode": {
    "name": "ipython",
    "version": 3
   },
   "file_extension": ".py",
   "mimetype": "text/x-python",
   "name": "python",
   "nbconvert_exporter": "python",
   "pygments_lexer": "ipython3",
   "version": "3.11.4"
  }
 },
 "nbformat": 4,
 "nbformat_minor": 2
}
