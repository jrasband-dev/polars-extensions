{
 "cells": [
  {
   "cell_type": "code",
   "execution_count": 7,
   "metadata": {},
   "outputs": [],
   "source": [
    "import polars as pl\n",
    "from polars_extensions import *"
   ]
  },
  {
   "cell_type": "code",
   "execution_count": null,
   "metadata": {},
   "outputs": [],
   "source": [
    "data = pl.read_csv('datasets/employees.csv')\n",
    "data"
   ]
  },
  {
   "cell_type": "code",
   "execution_count": null,
   "metadata": {},
   "outputs": [],
   "source": [
    "data = data.name_ext.to_kebeb_case()\n",
    "data"
   ]
  },
  {
   "cell_type": "code",
   "execution_count": null,
   "metadata": {},
   "outputs": [],
   "source": [
    "data = data.name_ext.to_train_case()\n",
    "data"
   ]
  },
  {
   "cell_type": "code",
   "execution_count": null,
   "metadata": {},
   "outputs": [],
   "source": [
    "data = data.name_ext.to_pascal_case()\n",
    "data"
   ]
  },
  {
   "cell_type": "code",
   "execution_count": null,
   "metadata": {},
   "outputs": [],
   "source": [
    "data = data.name_ext.to_snake_case()\n",
    "data"
   ]
  },
  {
   "cell_type": "code",
   "execution_count": null,
   "metadata": {},
   "outputs": [],
   "source": [
    "data = data.name_ext.to_camel_case()\n",
    "data"
   ]
  },
  {
   "cell_type": "code",
   "execution_count": null,
   "metadata": {},
   "outputs": [],
   "source": [
    "data = data.name_ext.to_pascal_snake_case()\n",
    "data"
   ]
  },
  {
   "cell_type": "markdown",
   "metadata": {},
   "source": [
    "## Numeric "
   ]
  },
  {
   "cell_type": "code",
   "execution_count": 1,
   "metadata": {},
   "outputs": [
    {
     "data": {
      "text/html": [
       "<div><style>\n",
       ".dataframe > thead > tr,\n",
       ".dataframe > tbody > tr {\n",
       "  text-align: right;\n",
       "  white-space: pre-wrap;\n",
       "}\n",
       "</style>\n",
       "<small>shape: (5, 1)</small><table border=\"1\" class=\"dataframe\"><thead><tr><th>numbers</th></tr><tr><td>i64</td></tr></thead><tbody><tr><td>1</td></tr><tr><td>2</td></tr><tr><td>309</td></tr><tr><td>4</td></tr><tr><td>5</td></tr></tbody></table></div>"
      ],
      "text/plain": [
       "shape: (5, 1)\n",
       "┌─────────┐\n",
       "│ numbers │\n",
       "│ ---     │\n",
       "│ i64     │\n",
       "╞═════════╡\n",
       "│ 1       │\n",
       "│ 2       │\n",
       "│ 309     │\n",
       "│ 4       │\n",
       "│ 5       │\n",
       "└─────────┘"
      ]
     },
     "execution_count": 1,
     "metadata": {},
     "output_type": "execute_result"
    }
   ],
   "source": [
    "import polars as pl\n",
    "df = pl.DataFrame({\"numbers\": [1, 2, 309, 4, 5]})\n",
    "df"
   ]
  },
  {
   "cell_type": "code",
   "execution_count": 2,
   "metadata": {},
   "outputs": [
    {
     "data": {
      "text/html": [
       "<div><style>\n",
       ".dataframe > thead > tr,\n",
       ".dataframe > tbody > tr {\n",
       "  text-align: right;\n",
       "  white-space: pre-wrap;\n",
       "}\n",
       "</style>\n",
       "<small>shape: (5, 2)</small><table border=\"1\" class=\"dataframe\"><thead><tr><th>numbers</th><th>Roman</th></tr><tr><td>i64</td><td>str</td></tr></thead><tbody><tr><td>1</td><td>&quot;I&quot;</td></tr><tr><td>2</td><td>&quot;II&quot;</td></tr><tr><td>309</td><td>&quot;CCCIX&quot;</td></tr><tr><td>4</td><td>&quot;IV&quot;</td></tr><tr><td>5</td><td>&quot;V&quot;</td></tr></tbody></table></div>"
      ],
      "text/plain": [
       "shape: (5, 2)\n",
       "┌─────────┬───────┐\n",
       "│ numbers ┆ Roman │\n",
       "│ ---     ┆ ---   │\n",
       "│ i64     ┆ str   │\n",
       "╞═════════╪═══════╡\n",
       "│ 1       ┆ I     │\n",
       "│ 2       ┆ II    │\n",
       "│ 309     ┆ CCCIX │\n",
       "│ 4       ┆ IV    │\n",
       "│ 5       ┆ V     │\n",
       "└─────────┴───────┘"
      ]
     },
     "execution_count": 2,
     "metadata": {},
     "output_type": "execute_result"
    }
   ],
   "source": [
    "import polars_extensions as plx\n",
    "\n",
    "\n",
    "result = df.with_columns(\n",
    "    pl.col('numbers').num_ext.to_roman().alias(\"Roman\")\n",
    ")\n",
    "\n",
    "result"
   ]
  },
  {
   "cell_type": "code",
   "execution_count": 6,
   "metadata": {},
   "outputs": [
    {
     "data": {
      "text/html": [
       "<div><style>\n",
       ".dataframe > thead > tr,\n",
       ".dataframe > tbody > tr {\n",
       "  text-align: right;\n",
       "  white-space: pre-wrap;\n",
       "}\n",
       "</style>\n",
       "<small>shape: (5, 3)</small><table border=\"1\" class=\"dataframe\"><thead><tr><th>numbers</th><th>Roman</th><th>Decoded</th></tr><tr><td>i64</td><td>str</td><td>i64</td></tr></thead><tbody><tr><td>1</td><td>&quot;I&quot;</td><td>1</td></tr><tr><td>2</td><td>&quot;II&quot;</td><td>2</td></tr><tr><td>309</td><td>&quot;CCCIX&quot;</td><td>309</td></tr><tr><td>4</td><td>&quot;IV&quot;</td><td>4</td></tr><tr><td>5</td><td>&quot;V&quot;</td><td>5</td></tr></tbody></table></div>"
      ],
      "text/plain": [
       "shape: (5, 3)\n",
       "┌─────────┬───────┬─────────┐\n",
       "│ numbers ┆ Roman ┆ Decoded │\n",
       "│ ---     ┆ ---   ┆ ---     │\n",
       "│ i64     ┆ str   ┆ i64     │\n",
       "╞═════════╪═══════╪═════════╡\n",
       "│ 1       ┆ I     ┆ 1       │\n",
       "│ 2       ┆ II    ┆ 2       │\n",
       "│ 309     ┆ CCCIX ┆ 309     │\n",
       "│ 4       ┆ IV    ┆ 4       │\n",
       "│ 5       ┆ V     ┆ 5       │\n",
       "└─────────┴───────┴─────────┘"
      ]
     },
     "execution_count": 6,
     "metadata": {},
     "output_type": "execute_result"
    }
   ],
   "source": [
    "new_result = result.with_columns(\n",
    "    pl.col('Roman').num_ext.from_roman().alias(\"Decoded\")\n",
    ")\n",
    "new_result"
   ]
  },
  {
   "cell_type": "markdown",
   "metadata": {},
   "source": []
  },
  {
   "cell_type": "code",
   "execution_count": 1,
   "metadata": {},
   "outputs": [],
   "source": [
    "import polars as pl\n",
    "import polars_extensions as plx\n",
    "\n",
    "df = pl.DataFrame({\n",
    "    \"string1\": [\"phillips\",\"phillips\",\"\",None],\n",
    "    \"string2\": [\"philips\",\"phillips\",\"phillips\",None],\n",
    "})"
   ]
  },
  {
   "cell_type": "code",
   "execution_count": null,
   "metadata": {},
   "outputs": [],
   "source": [
    "result = df.with_columns(\n",
    "    # pl.col('string1').str_ext.levenshtein(pl.col('string2')).alias(\"lev_distance\")\n",
    "    pl.col('string1').list_ext.find_intersection('string2').alias(\"jaccard_similarity\")\n",
    ")\n",
    "\n",
    "result"
   ]
  },
  {
   "cell_type": "code",
   "execution_count": null,
   "metadata": {},
   "outputs": [],
   "source": []
  }
 ],
 "metadata": {
  "kernelspec": {
   "display_name": "venv",
   "language": "python",
   "name": "python3"
  },
  "language_info": {
   "codemirror_mode": {
    "name": "ipython",
    "version": 3
   },
   "file_extension": ".py",
   "mimetype": "text/x-python",
   "name": "python",
   "nbconvert_exporter": "python",
   "pygments_lexer": "ipython3",
   "version": "3.11.4"
  }
 },
 "nbformat": 4,
 "nbformat_minor": 2
}
