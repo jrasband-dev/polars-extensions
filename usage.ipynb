{
 "cells": [
  {
   "cell_type": "code",
   "execution_count": 1,
   "metadata": {},
   "outputs": [],
   "source": [
    "import polars as pl\n",
    "from polars_extensions import *"
   ]
  },
  {
   "cell_type": "code",
   "execution_count": null,
   "metadata": {},
   "outputs": [],
   "source": [
    "data = pl.read_csv('datasets/employees.csv')\n",
    "data"
   ]
  },
  {
   "cell_type": "code",
   "execution_count": null,
   "metadata": {},
   "outputs": [],
   "source": [
    "data.name_ext.to_kebeb_case()"
   ]
  },
  {
   "cell_type": "code",
   "execution_count": null,
   "metadata": {},
   "outputs": [],
   "source": [
    "data.name_ext.to_train_case()"
   ]
  },
  {
   "cell_type": "code",
   "execution_count": null,
   "metadata": {},
   "outputs": [],
   "source": [
    "data.name_ext.to_pascal_case()\n"
   ]
  },
  {
   "cell_type": "code",
   "execution_count": null,
   "metadata": {},
   "outputs": [],
   "source": [
    "data.name_ext.to_snake_case()"
   ]
  },
  {
   "cell_type": "code",
   "execution_count": null,
   "metadata": {},
   "outputs": [],
   "source": [
    "data.name_ext.to_camel_case()"
   ]
  },
  {
   "cell_type": "code",
   "execution_count": null,
   "metadata": {},
   "outputs": [],
   "source": [
    "data.name_ext.to_pascal_snake_case()\n"
   ]
  },
  {
   "cell_type": "markdown",
   "metadata": {},
   "source": [
    "## Numeric "
   ]
  },
  {
   "cell_type": "code",
   "execution_count": null,
   "metadata": {},
   "outputs": [],
   "source": [
    "import polars as pl\n",
    "df = pl.DataFrame({\"numbers\": [1, 2, 309, 4, 5]})\n",
    "df"
   ]
  },
  {
   "cell_type": "code",
   "execution_count": null,
   "metadata": {},
   "outputs": [],
   "source": [
    "import polars_extensions as plx\n",
    "\n",
    "\n",
    "result = df.with_columns(\n",
    "    pl.col('numbers').num_ext.to_roman().alias(\"Roman\")\n",
    ")\n",
    "\n",
    "result"
   ]
  },
  {
   "cell_type": "code",
   "execution_count": null,
   "metadata": {},
   "outputs": [],
   "source": [
    "new_result = result.with_columns(\n",
    "    pl.col('Roman').num_ext.from_roman().alias(\"Decoded\")\n",
    ")\n",
    "new_result"
   ]
  },
  {
   "cell_type": "code",
   "execution_count": null,
   "metadata": {},
   "outputs": [],
   "source": [
    "import polars as pl\n",
    "\n",
    "df = pl.DataFrame(\n",
    "    {\n",
    "        \"a\": [[1, 2, 3], [], [None, 3], [5, 6, 7]],\n",
    "        \"b\": [[2, 3, 3,4], [3], [3, 4, None], [6, 8]],\n",
    "    }\n",
    ")\n",
    "\n",
    "df.with_columns(intersection=pl.col(\"a\").list.set_intersection(\"b\"))"
   ]
  },
  {
   "cell_type": "code",
   "execution_count": null,
   "metadata": {},
   "outputs": [],
   "source": [
    "def find_intersection(list1, list2):\n",
    "    \"\"\"\n",
    "    Finds the intersection between two lists, accounting for repeated elements\n",
    "    and preserving the order from the first list.\n",
    "\n",
    "    Parameters:\n",
    "    list1 (list): First list of data.\n",
    "    list2 (list): Second list of data.\n",
    "\n",
    "    Returns:\n",
    "    list: A list containing elements that are present in both input lists, including repeats, in order.\n",
    "    \"\"\"\n",
    "    # Copy of list2 to track matches\n",
    "    list2_copy = list2[:]\n",
    "    intersection = []\n",
    "\n",
    "    # Iterate through list1 and check for matches in list2_copy\n",
    "    for item in list1:\n",
    "        if item in list2_copy:\n",
    "            intersection.append(item)\n",
    "            list2_copy.remove(item)  # Remove matched element to handle duplicates properly\n",
    "\n",
    "    return intersection\n",
    "\n",
    "\n",
    "# Example usage\n",
    "list1 = [\"p\", \"h\", \"i\", \"l\", \"l\", \"i\", \"p\", \"s\"]\n",
    "list2 = [ \"h\", \"i\", \"l\", \"i\", \"p\", \"s\"]\n",
    "\n",
    "result = find_intersection(list1, list2)\n",
    "print(result)\n"
   ]
  },
  {
   "cell_type": "code",
   "execution_count": 1,
   "metadata": {},
   "outputs": [
    {
     "data": {
      "text/html": [
       "<div><style>\n",
       ".dataframe > thead > tr,\n",
       ".dataframe > tbody > tr {\n",
       "  text-align: right;\n",
       "  white-space: pre-wrap;\n",
       "}\n",
       "</style>\n",
       "<small>shape: (10, 3)</small><table border=\"1\" class=\"dataframe\"><thead><tr><th>a</th><th>c</th><th>f1_score</th></tr><tr><td>str</td><td>str</td><td>f64</td></tr></thead><tbody><tr><td>&quot;apple&quot;</td><td>&quot;appl&quot;</td><td>0.888889</td></tr><tr><td>&quot;banana&quot;</td><td>&quot;BANANA&quot;</td><td>1.0</td></tr><tr><td>&quot;cherry&quot;</td><td>&quot;cherr&quot;</td><td>0.909091</td></tr><tr><td>&quot;date&quot;</td><td>&quot;etad&quot;</td><td>1.0</td></tr><tr><td>&quot;elderberry&quot;</td><td>&quot;elderberrys&quot;</td><td>0.952381</td></tr><tr><td>&quot;fig&quot;</td><td>&quot;FIG&quot;</td><td>1.0</td></tr><tr><td>&quot;grape&quot;</td><td>&quot;gr@pe&quot;</td><td>0.8</td></tr><tr><td>&quot;honeydew&quot;</td><td>&quot;ywendeyoh&quot;</td><td>0.941176</td></tr><tr><td>&quot;kiwi&quot;</td><td>&quot;KIW&quot;</td><td>0.857143</td></tr><tr><td>&quot;lemon&quot;</td><td>&quot;lemons&quot;</td><td>0.909091</td></tr></tbody></table></div>"
      ],
      "text/plain": [
       "shape: (10, 3)\n",
       "┌────────────┬─────────────┬──────────┐\n",
       "│ a          ┆ c           ┆ f1_score │\n",
       "│ ---        ┆ ---         ┆ ---      │\n",
       "│ str        ┆ str         ┆ f64      │\n",
       "╞════════════╪═════════════╪══════════╡\n",
       "│ apple      ┆ appl        ┆ 0.888889 │\n",
       "│ banana     ┆ BANANA      ┆ 1.0      │\n",
       "│ cherry     ┆ cherr       ┆ 0.909091 │\n",
       "│ date       ┆ etad        ┆ 1.0      │\n",
       "│ elderberry ┆ elderberrys ┆ 0.952381 │\n",
       "│ fig        ┆ FIG         ┆ 1.0      │\n",
       "│ grape      ┆ gr@pe       ┆ 0.8      │\n",
       "│ honeydew   ┆ ywendeyoh   ┆ 0.941176 │\n",
       "│ kiwi       ┆ KIW         ┆ 0.857143 │\n",
       "│ lemon      ┆ lemons      ┆ 0.909091 │\n",
       "└────────────┴─────────────┴──────────┘"
      ]
     },
     "execution_count": 1,
     "metadata": {},
     "output_type": "execute_result"
    }
   ],
   "source": [
    "import polars_extensions as plx\n",
    "import polars as pl \n",
    "\n",
    "data = pl.read_csv('datasets/string_sim.csv')\n",
    "\n",
    "data.str_ext.f1_string_similarity('a','c')\n"
   ]
  },
  {
   "cell_type": "code",
   "execution_count": null,
   "metadata": {},
   "outputs": [],
   "source": []
  },
  {
   "cell_type": "code",
   "execution_count": null,
   "metadata": {},
   "outputs": [],
   "source": []
  }
 ],
 "metadata": {
  "kernelspec": {
   "display_name": "venv",
   "language": "python",
   "name": "python3"
  },
  "language_info": {
   "codemirror_mode": {
    "name": "ipython",
    "version": 3
   },
   "file_extension": ".py",
   "mimetype": "text/x-python",
   "name": "python",
   "nbconvert_exporter": "python",
   "pygments_lexer": "ipython3",
   "version": "3.11.4"
  }
 },
 "nbformat": 4,
 "nbformat_minor": 2
}
